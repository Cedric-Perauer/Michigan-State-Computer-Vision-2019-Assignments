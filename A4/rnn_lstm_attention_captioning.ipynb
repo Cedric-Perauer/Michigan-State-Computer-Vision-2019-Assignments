{
  "nbformat": 4,
  "nbformat_minor": 0,
  "metadata": {
    "accelerator": "GPU",
    "colab": {
      "name": "rnn_lstm_attention_captioning.ipynb",
      "provenance": [],
      "collapsed_sections": []
    },
    "kernelspec": {
      "display_name": "Python 3",
      "name": "python3"
    },
    "language_info": {
      "codemirror_mode": {
        "name": "ipython",
        "version": 3
      },
      "file_extension": ".py",
      "mimetype": "text/x-python",
      "name": "python",
      "nbconvert_exporter": "python",
      "pygments_lexer": "ipython3",
      "version": "3.7.3"
    },
    "widgets": {
      "application/vnd.jupyter.widget-state+json": {
        "1fdfae6944c246149dd91213b72b618a": {
          "model_module": "@jupyter-widgets/controls",
          "model_name": "HBoxModel",
          "state": {
            "_view_name": "HBoxView",
            "_dom_classes": [],
            "_model_name": "HBoxModel",
            "_view_module": "@jupyter-widgets/controls",
            "_model_module_version": "1.5.0",
            "_view_count": null,
            "_view_module_version": "1.5.0",
            "box_style": "",
            "layout": "IPY_MODEL_40343c57339942bebfa4722f17f6e42f",
            "_model_module": "@jupyter-widgets/controls",
            "children": [
              "IPY_MODEL_8390750bbc8f473c8c35a35c209b37b7",
              "IPY_MODEL_fe25234ea573455ca5c8e8dd6afde12e"
            ]
          }
        },
        "40343c57339942bebfa4722f17f6e42f": {
          "model_module": "@jupyter-widgets/base",
          "model_name": "LayoutModel",
          "state": {
            "_view_name": "LayoutView",
            "grid_template_rows": null,
            "right": null,
            "justify_content": null,
            "_view_module": "@jupyter-widgets/base",
            "overflow": null,
            "_model_module_version": "1.2.0",
            "_view_count": null,
            "flex_flow": null,
            "width": null,
            "min_width": null,
            "border": null,
            "align_items": null,
            "bottom": null,
            "_model_module": "@jupyter-widgets/base",
            "top": null,
            "grid_column": null,
            "overflow_y": null,
            "overflow_x": null,
            "grid_auto_flow": null,
            "grid_area": null,
            "grid_template_columns": null,
            "flex": null,
            "_model_name": "LayoutModel",
            "justify_items": null,
            "grid_row": null,
            "max_height": null,
            "align_content": null,
            "visibility": null,
            "align_self": null,
            "height": null,
            "min_height": null,
            "padding": null,
            "grid_auto_rows": null,
            "grid_gap": null,
            "max_width": null,
            "order": null,
            "_view_module_version": "1.2.0",
            "grid_template_areas": null,
            "object_position": null,
            "object_fit": null,
            "grid_auto_columns": null,
            "margin": null,
            "display": null,
            "left": null
          }
        },
        "8390750bbc8f473c8c35a35c209b37b7": {
          "model_module": "@jupyter-widgets/controls",
          "model_name": "FloatProgressModel",
          "state": {
            "_view_name": "ProgressView",
            "style": "IPY_MODEL_b690ab0c7f484a018c7dbebb05070cb7",
            "_dom_classes": [],
            "description": "100%",
            "_model_name": "FloatProgressModel",
            "bar_style": "success",
            "max": 14212972,
            "_view_module": "@jupyter-widgets/controls",
            "_model_module_version": "1.5.0",
            "value": 14212972,
            "_view_count": null,
            "_view_module_version": "1.5.0",
            "orientation": "horizontal",
            "min": 0,
            "description_tooltip": null,
            "_model_module": "@jupyter-widgets/controls",
            "layout": "IPY_MODEL_0614f979d40545dfb1eb1ad1414898d0"
          }
        },
        "fe25234ea573455ca5c8e8dd6afde12e": {
          "model_module": "@jupyter-widgets/controls",
          "model_name": "HTMLModel",
          "state": {
            "_view_name": "HTMLView",
            "style": "IPY_MODEL_d465e9d4aa0d442eab5376b2d8318909",
            "_dom_classes": [],
            "description": "",
            "_model_name": "HTMLModel",
            "placeholder": "​",
            "_view_module": "@jupyter-widgets/controls",
            "_model_module_version": "1.5.0",
            "value": " 13.6M/13.6M [00:00&lt;00:00, 60.5MB/s]",
            "_view_count": null,
            "_view_module_version": "1.5.0",
            "description_tooltip": null,
            "_model_module": "@jupyter-widgets/controls",
            "layout": "IPY_MODEL_cc5021fffd024c04b675ff7687e82917"
          }
        },
        "b690ab0c7f484a018c7dbebb05070cb7": {
          "model_module": "@jupyter-widgets/controls",
          "model_name": "ProgressStyleModel",
          "state": {
            "_view_name": "StyleView",
            "_model_name": "ProgressStyleModel",
            "description_width": "initial",
            "_view_module": "@jupyter-widgets/base",
            "_model_module_version": "1.5.0",
            "_view_count": null,
            "_view_module_version": "1.2.0",
            "bar_color": null,
            "_model_module": "@jupyter-widgets/controls"
          }
        },
        "0614f979d40545dfb1eb1ad1414898d0": {
          "model_module": "@jupyter-widgets/base",
          "model_name": "LayoutModel",
          "state": {
            "_view_name": "LayoutView",
            "grid_template_rows": null,
            "right": null,
            "justify_content": null,
            "_view_module": "@jupyter-widgets/base",
            "overflow": null,
            "_model_module_version": "1.2.0",
            "_view_count": null,
            "flex_flow": null,
            "width": null,
            "min_width": null,
            "border": null,
            "align_items": null,
            "bottom": null,
            "_model_module": "@jupyter-widgets/base",
            "top": null,
            "grid_column": null,
            "overflow_y": null,
            "overflow_x": null,
            "grid_auto_flow": null,
            "grid_area": null,
            "grid_template_columns": null,
            "flex": null,
            "_model_name": "LayoutModel",
            "justify_items": null,
            "grid_row": null,
            "max_height": null,
            "align_content": null,
            "visibility": null,
            "align_self": null,
            "height": null,
            "min_height": null,
            "padding": null,
            "grid_auto_rows": null,
            "grid_gap": null,
            "max_width": null,
            "order": null,
            "_view_module_version": "1.2.0",
            "grid_template_areas": null,
            "object_position": null,
            "object_fit": null,
            "grid_auto_columns": null,
            "margin": null,
            "display": null,
            "left": null
          }
        },
        "d465e9d4aa0d442eab5376b2d8318909": {
          "model_module": "@jupyter-widgets/controls",
          "model_name": "DescriptionStyleModel",
          "state": {
            "_view_name": "StyleView",
            "_model_name": "DescriptionStyleModel",
            "description_width": "",
            "_view_module": "@jupyter-widgets/base",
            "_model_module_version": "1.5.0",
            "_view_count": null,
            "_view_module_version": "1.2.0",
            "_model_module": "@jupyter-widgets/controls"
          }
        },
        "cc5021fffd024c04b675ff7687e82917": {
          "model_module": "@jupyter-widgets/base",
          "model_name": "LayoutModel",
          "state": {
            "_view_name": "LayoutView",
            "grid_template_rows": null,
            "right": null,
            "justify_content": null,
            "_view_module": "@jupyter-widgets/base",
            "overflow": null,
            "_model_module_version": "1.2.0",
            "_view_count": null,
            "flex_flow": null,
            "width": null,
            "min_width": null,
            "border": null,
            "align_items": null,
            "bottom": null,
            "_model_module": "@jupyter-widgets/base",
            "top": null,
            "grid_column": null,
            "overflow_y": null,
            "overflow_x": null,
            "grid_auto_flow": null,
            "grid_area": null,
            "grid_template_columns": null,
            "flex": null,
            "_model_name": "LayoutModel",
            "justify_items": null,
            "grid_row": null,
            "max_height": null,
            "align_content": null,
            "visibility": null,
            "align_self": null,
            "height": null,
            "min_height": null,
            "padding": null,
            "grid_auto_rows": null,
            "grid_gap": null,
            "max_width": null,
            "order": null,
            "_view_module_version": "1.2.0",
            "grid_template_areas": null,
            "object_position": null,
            "object_fit": null,
            "grid_auto_columns": null,
            "margin": null,
            "display": null,
            "left": null
          }
        }
      }
    }
  },
  "cells": [
    {
      "cell_type": "markdown",
      "metadata": {
        "colab_type": "text",
        "id": "DDJwQPZcupab"
      },
      "source": [
        "# EECS 498-007/598-005 Assignment 4-2: RNN, LSTM, and Attention for Image Captioning\n",
        "\n",
        "Before we start, please put your name and UMID in following format\n",
        "\n",
        ": Firstname LASTNAME, #00000000   //   e.g.) Justin JOHNSON, #12345678"
      ]
    },
    {
      "cell_type": "markdown",
      "metadata": {
        "colab_type": "text",
        "id": "2KMxqLt1h2kx"
      },
      "source": [
        "**Your Answer:**   \n",
        "Hello WORLD, #XXXXXXXX"
      ]
    },
    {
      "cell_type": "markdown",
      "metadata": {
        "colab_type": "text",
        "id": "Euek3FWn6bhA",
        "tags": [
          "pdf-title"
        ]
      },
      "source": [
        "# Image Captioning with RNNs\n",
        "In this exercise you will implement a vanilla recurrent neural networks and use fdsafdfthem it to train a model that can generate novel captions for images."
      ]
    },
    {
      "cell_type": "markdown",
      "metadata": {
        "colab_type": "text",
        "id": "ubB_0e-UAOVK"
      },
      "source": [
        "## Install starter code\n",
        "We will continue using the utility functions that we've used for previous assignments: [`coutils` package](https://github.com/deepvision-class/starter-code). Run this cell to download and install it.\n"
      ]
    },
    {
      "cell_type": "code",
      "metadata": {
        "colab_type": "code",
        "id": "ASkY27ZtA7Is",
        "colab": {
          "base_uri": "https://localhost:8080/",
          "height": 459
        },
        "outputId": "f412d5be-2e87-4bb9-8750-be349a5d0cb1"
      },
      "source": [
        "!pip install git+https://github.com/deepvision-class/starter-code"
      ],
      "execution_count": 1,
      "outputs": [
        {
          "output_type": "stream",
          "text": [
            "Collecting git+https://github.com/deepvision-class/starter-code\n",
            "  Cloning https://github.com/deepvision-class/starter-code to /tmp/pip-req-build-kost7iob\n",
            "  Running command git clone -q https://github.com/deepvision-class/starter-code /tmp/pip-req-build-kost7iob\n",
            "Requirement already satisfied: pydrive in /usr/local/lib/python3.6/dist-packages (from Colab-Utils==0.1.dev0) (1.3.1)\n",
            "Requirement already satisfied: PyYAML>=3.0 in /usr/local/lib/python3.6/dist-packages (from pydrive->Colab-Utils==0.1.dev0) (3.13)\n",
            "Requirement already satisfied: oauth2client>=4.0.0 in /usr/local/lib/python3.6/dist-packages (from pydrive->Colab-Utils==0.1.dev0) (4.1.3)\n",
            "Requirement already satisfied: google-api-python-client>=1.2 in /usr/local/lib/python3.6/dist-packages (from pydrive->Colab-Utils==0.1.dev0) (1.7.12)\n",
            "Requirement already satisfied: pyasn1-modules>=0.0.5 in /usr/local/lib/python3.6/dist-packages (from oauth2client>=4.0.0->pydrive->Colab-Utils==0.1.dev0) (0.2.8)\n",
            "Requirement already satisfied: rsa>=3.1.4 in /usr/local/lib/python3.6/dist-packages (from oauth2client>=4.0.0->pydrive->Colab-Utils==0.1.dev0) (4.6)\n",
            "Requirement already satisfied: six>=1.6.1 in /usr/local/lib/python3.6/dist-packages (from oauth2client>=4.0.0->pydrive->Colab-Utils==0.1.dev0) (1.15.0)\n",
            "Requirement already satisfied: httplib2>=0.9.1 in /usr/local/lib/python3.6/dist-packages (from oauth2client>=4.0.0->pydrive->Colab-Utils==0.1.dev0) (0.17.4)\n",
            "Requirement already satisfied: pyasn1>=0.1.7 in /usr/local/lib/python3.6/dist-packages (from oauth2client>=4.0.0->pydrive->Colab-Utils==0.1.dev0) (0.4.8)\n",
            "Requirement already satisfied: uritemplate<4dev,>=3.0.0 in /usr/local/lib/python3.6/dist-packages (from google-api-python-client>=1.2->pydrive->Colab-Utils==0.1.dev0) (3.0.1)\n",
            "Requirement already satisfied: google-auth-httplib2>=0.0.3 in /usr/local/lib/python3.6/dist-packages (from google-api-python-client>=1.2->pydrive->Colab-Utils==0.1.dev0) (0.0.4)\n",
            "Requirement already satisfied: google-auth>=1.4.1 in /usr/local/lib/python3.6/dist-packages (from google-api-python-client>=1.2->pydrive->Colab-Utils==0.1.dev0) (1.17.2)\n",
            "Requirement already satisfied: setuptools>=40.3.0 in /usr/local/lib/python3.6/dist-packages (from google-auth>=1.4.1->google-api-python-client>=1.2->pydrive->Colab-Utils==0.1.dev0) (49.6.0)\n",
            "Requirement already satisfied: cachetools<5.0,>=2.0.0 in /usr/local/lib/python3.6/dist-packages (from google-auth>=1.4.1->google-api-python-client>=1.2->pydrive->Colab-Utils==0.1.dev0) (4.1.1)\n",
            "Building wheels for collected packages: Colab-Utils\n",
            "  Building wheel for Colab-Utils (setup.py) ... \u001b[?25l\u001b[?25hdone\n",
            "  Created wheel for Colab-Utils: filename=Colab_Utils-0.1.dev0-cp36-none-any.whl size=10324 sha256=78f29e6768172f78f2e287f036e2d97038240337019be0e7db935573388659dd\n",
            "  Stored in directory: /tmp/pip-ephem-wheel-cache-5nxi0otq/wheels/63/d1/27/a208931527abb98d326d00209f46c80c9d745851d6a1defd10\n",
            "Successfully built Colab-Utils\n",
            "Installing collected packages: Colab-Utils\n",
            "Successfully installed Colab-Utils-0.1.dev0\n"
          ],
          "name": "stdout"
        }
      ]
    },
    {
      "cell_type": "markdown",
      "metadata": {
        "colab_type": "text",
        "id": "MzqbYcKdz6ew"
      },
      "source": [
        "## Setup code\n",
        "Run some setup code for this notebook: Import some useful packages and increase the default figure size."
      ]
    },
    {
      "cell_type": "code",
      "metadata": {
        "colab_type": "code",
        "id": "q53DlMXboP-T",
        "colab": {}
      },
      "source": [
        "import math\n",
        "import torch\n",
        "from torch import nn\n",
        "from torch.nn.parameter import Parameter\n",
        "import torch.nn.functional as F\n",
        "import coutils\n",
        "from coutils import fix_random_seed, rel_error, compute_numeric_gradient, \\\n",
        "                    tensor_to_image, decode_captions, attention_visualizer\n",
        "import matplotlib.pyplot as plt\n",
        "import time\n",
        "\n",
        "# for plotting\n",
        "%matplotlib inline\n",
        "plt.rcParams['figure.figsize'] = (10.0, 8.0) # set default size of plots\n",
        "plt.rcParams['image.interpolation'] = 'nearest'\n",
        "plt.rcParams['image.cmap'] = 'gray'\n",
        "\n",
        "# data type and device for torch.tensor\n",
        "to_float = {'dtype': torch.float, 'device': 'cpu'}\n",
        "to_float_cuda = {'dtype': torch.float, 'device': 'cuda'}\n",
        "to_double = {'dtype': torch.double, 'device': 'cpu'}\n",
        "to_double_cuda = {'dtype': torch.double, 'device': 'cuda'}\n",
        "to_long = {'dtype': torch.long, 'device': 'cpu'}\n",
        "to_long_cuda = {'dtype': torch.long, 'device': 'cuda'}"
      ],
      "execution_count": 2,
      "outputs": []
    },
    {
      "cell_type": "markdown",
      "metadata": {
        "colab_type": "text",
        "id": "OvUDZWGU3VLV"
      },
      "source": [
        "We will use GPUs to accelerate our computation in this notebook. Run the following to make sure GPUs are enabled:"
      ]
    },
    {
      "cell_type": "code",
      "metadata": {
        "colab_type": "code",
        "id": "RrAX9FOLpr9k",
        "colab": {
          "base_uri": "https://localhost:8080/",
          "height": 35
        },
        "outputId": "a2a2750c-b612-4e5b-cf14-e056f2330b54"
      },
      "source": [
        "if torch.cuda.is_available:\n",
        "  print('Good to go!')\n",
        "else:\n",
        "  print('Please set GPU via Edit -> Notebook Settings.')"
      ],
      "execution_count": 3,
      "outputs": [
        {
          "output_type": "stream",
          "text": [
            "Good to go!\n"
          ],
          "name": "stdout"
        }
      ]
    },
    {
      "cell_type": "markdown",
      "metadata": {
        "colab_type": "text",
        "id": "WCPZwvOd6bhF",
        "tags": [
          "pdf-ignore"
        ]
      },
      "source": [
        "# Microsoft COCO\n",
        "For this exercise we will use the 2014 release of the [Microsoft COCO dataset](http://mscoco.org/) which has become the standard testbed for image captioning. The dataset consists of 80,000 training images and 40,000 validation images, each annotated with 5 captions written by workers on Amazon Mechanical Turk.\n",
        "\n",
        "We have preprocessed the data for you already and saved them into a serialized data file. It contains 10,000 image-caption pairs for training and 500 for testing. The images have been downsampled to 112x112 for computation efficiency and captions are tokenized and numericalized, clamped to 15 words. You can download the file named `coco.pt` (378MB) with the link below and run some useful stats.\n",
        "\n",
        "You will later use MobileNet v2 to extract features for the images. A few notes on the caption preprocessing:\n",
        "\n",
        "Dealing with strings is inefficient, so we will work with an encoded version of the captions. Each word is assigned an integer ID, allowing us to represent a caption by a sequence of integers. The mapping between integer IDs and words is saved in an entry named `vocab` (both `idx_to_token` and `token_to_idx`), and we use the function `decode_captions` from the starter code to convert tensors of integer IDs back into strings.\n",
        "\n",
        "There are a couple special tokens that we add to the vocabulary. We prepend a special `<START>` token and append an `<END>` token to the beginning and end of each caption respectively. Rare words are replaced with a special `<UNK>` token (for \"unknown\"). In addition, since we want to train with minibatches containing captions of different lengths, we pad short captions with a special `<NULL>` token after the `<END>` token and don't compute loss or gradient for `<NULL>` tokens. Since they are a bit of a pain, we have taken care of all implementation details around special tokens for you."
      ]
    },
    {
      "cell_type": "code",
      "metadata": {
        "colab_type": "code",
        "id": "IMok4gFXqjre",
        "colab": {
          "base_uri": "https://localhost:8080/",
          "height": 459
        },
        "outputId": "a918c63e-e029-4a9b-b868-6e563dbab13a"
      },
      "source": [
        "# Download and load serialized COCO data from coco.pt\n",
        "# It contains a dictionary of\n",
        "# \"train_images\" - resized training images (112x112)\n",
        "# \"val_images\" - resized validation images (112x112)\n",
        "# \"train_captions\" - tokenized and numericalized training captions\n",
        "# \"val_captions\" - tokenized and numericalized validation captions\n",
        "# \"vocab\" - caption vocabulary, including \"idx_to_token\" and \"token_to_idx\"\n",
        "\n",
        "!wget http://web.eecs.umich.edu/~justincj/teaching/eecs498/coco.pt\n",
        "data_dict = torch.load('coco.pt')\n",
        "\n",
        "# print out all the keys and values from the data dictionary\n",
        "for k, v in data_dict.items():\n",
        "    if type(v) == torch.Tensor:\n",
        "        print(k, type(v), v.shape, v.dtype)\n",
        "    else:\n",
        "        print(k, type(v), v.keys())\n",
        "\n",
        "num_train = data_dict['train_images'].size(0)\n",
        "num_val = data_dict['val_images'].size(0)\n",
        "assert data_dict['train_images'].size(0) == data_dict['train_captions'].size(0) and \\\n",
        "       data_dict['val_images'].size(0) == data_dict['val_captions'].size(0), \\\n",
        "       'shapes of data mismatch!'\n",
        "\n",
        "print('\\nTrain images shape: ', data_dict['train_images'].shape)\n",
        "print('Train caption tokens shape: ', data_dict['train_captions'].shape)\n",
        "print('Validation images shape: ', data_dict['val_images'].shape)\n",
        "print('Validation caption tokens shape: ', data_dict['val_captions'].shape)\n",
        "print('total number of caption tokens: ', len(data_dict['vocab']['idx_to_token']))\n",
        "print('mappings (list) from index to caption token: ', data_dict['vocab']['idx_to_token'])\n",
        "print('mappings (dict) from caption token to index: ', data_dict['vocab']['token_to_idx'])\n",
        "\n",
        "# declare variables for special tokens\n",
        "NULL_index = data_dict['vocab']['token_to_idx']['<NULL>']\n",
        "START_index = data_dict['vocab']['token_to_idx']['<START>']\n",
        "END_index = data_dict['vocab']['token_to_idx']['<END>']\n",
        "UNK_index = data_dict['vocab']['token_to_idx']['<UNK>']"
      ],
      "execution_count": 4,
      "outputs": [
        {
          "output_type": "stream",
          "text": [
            "--2020-08-26 00:10:52--  http://web.eecs.umich.edu/~justincj/teaching/eecs498/coco.pt\n",
            "Resolving web.eecs.umich.edu (web.eecs.umich.edu)... 141.212.113.214\n",
            "Connecting to web.eecs.umich.edu (web.eecs.umich.edu)|141.212.113.214|:80... connected.\n",
            "HTTP request sent, awaiting response... 200 OK\n",
            "Length: 396583632 (378M)\n",
            "Saving to: ‘coco.pt’\n",
            "\n",
            "coco.pt             100%[===================>] 378.21M  39.5MB/s    in 12s     \n",
            "\n",
            "2020-08-26 00:11:04 (32.4 MB/s) - ‘coco.pt’ saved [396583632/396583632]\n",
            "\n",
            "train_images <class 'torch.Tensor'> torch.Size([10000, 3, 112, 112]) torch.uint8\n",
            "train_captions <class 'torch.Tensor'> torch.Size([10000, 17]) torch.int64\n",
            "val_images <class 'torch.Tensor'> torch.Size([500, 3, 112, 112]) torch.uint8\n",
            "val_captions <class 'torch.Tensor'> torch.Size([500, 17]) torch.int64\n",
            "vocab <class 'dict'> dict_keys(['idx_to_token', 'token_to_idx'])\n",
            "\n",
            "Train images shape:  torch.Size([10000, 3, 112, 112])\n",
            "Train caption tokens shape:  torch.Size([10000, 17])\n",
            "Validation images shape:  torch.Size([500, 3, 112, 112])\n",
            "Validation caption tokens shape:  torch.Size([500, 17])\n",
            "total number of caption tokens:  864\n",
            "mappings (list) from index to caption token:  ['<NULL>', '<START>', '<END>', '<UNK>', 'a', 'on', 'of', 'the', 'in', 'with', 'and', 'is', 'man', 'to', 'sitting', 'two', 'an', 'standing', 'people', 'are', 'at', 'next', 'white', 'woman', 'table', 'that', 'street', 'holding', 'some', 'person', 'down', 'large', 'top', 'group', 'tennis', 'field', 'it', 'plate', 'up', 'small', 'riding', 'room', 'front', 'near', 'dog', 'red', 'his', 'by', 'black', 'train', 'baseball', 'young', 'cat', 'water', 'walking', 'playing', 'sign', 'snow', 'while', 'pizza', 'has', 'bathroom', 'kitchen', 'there', 'bus', 'grass', 'food', 'blue', 'green', 'other', 'beach', 'couple', 'ball', 'building', 'bed', 'three', 'parked', 'men', 'for', 'flying', 'side', 'looking', 'wooden', 'toilet', 'game', 'road', 'boy', 'girl', 'player', 'laying', 'skateboard', 'city', 'sits', 'over', 'wearing', 'her', 'eating', 'frisbee', 'several', 'out', 'bear', 'through', 'sink', 'horse', 'outside', 'picture', 'giraffe', 'from', 'phone', 'around', 'wall', 'bench', 'air', 'each', 'brown', 'board', 'clock', 'yellow', 'window', 'laptop', 'one', 'its', 'car', 'area', 'under', 'stop', 'park', 'living', 'covered', 'cake', 'behind', 'court', 'their', 'open', 'kite', 'into', 'elephant', 'truck', 'umbrella', 'tree', 'this', 'airplane', 'very', 'sheep', 'surfboard', 'many', 'trees', 'close', 'filled', 'little', 'old', 'computer', 'skis', 'motorcycle', 'big', 'desk', 'together', 'bowl', 'light', 'sky', 'as', 'bunch', 'background', 'wave', 'chair', 'traffic', 'teddy', 'fire', 'counter', 'ocean', 'sandwich', 'plane', 'cell', 'inside', 'glass', 'giraffes', 'sidewalk', 'stands', 'child', 'boat', 'back', 'women', 'orange', 'cars', 'photo', 'bat', 'horses', 'skiing', 'couch', 'baby', 'zebras', 'fence', 'bird', 'sit', 'racket', 'hydrant', 'view', 'bananas', 'grassy', 'elephants', 'stand', 'shirt', 'middle', 'vegetables', 'hill', 'four', 'flowers', 'tie', 'tall', 'hand', 'vase', 'off', 'grazing', 'driving', 'different', 'zebra', 'bike', 'being', 'ground', 'mirror', 'full', 'hanging', 'another', 'tracks', 'slope', 'dirt', 'along', 'ready', 'mountain', 'lot', 'wine', 'station', 'talking', 'cows', 'taking', 'skate', 'stuffed', 'during', 'day', 'floor', 'swinging', 'signs', 'pink', 'herd', 'airport', 'ski', 'head', 'guy', 'glasses', 'display', 'cutting', 'above', 'image', 'fruit', 'refrigerator', 'holds', 'going', 'empty', 'cow', 'broccoli', 'wii', 'pair', 'long', 'colorful', 'beside', 'track', 'surf', 'stove', 'pole', 'parking', 'crowd', 'against', 'tower', 'luggage', 'dogs', 'snowy', 'runway', 'lots', 'hat', 'umbrellas', 'smiling', 'scissors', 'kites', 'getting', 'buildings', 'walk', 'using', 'chairs', 'animals', 'skier', 'racquet', 'posing', 'passenger', 'paper', 'corner', 'banana', 'across', 'topped', 'them', 'running', 'piece', 'night', 'lights', 'jumping', 'hot', 'hit', 'video', 'tv', 'looks', 'carrying', 'suit', 'remote', 'oven', 'home', 'doing', 'box', 'body', 'birds', 'batter', 'television', 'plates', 'house', 'children', 'camera', 'busy', 'boats', 'various', 'soccer', 'motorcycles', 'jet', 'cheese', 'bears', 'shower', 'metal', 'male', 'double', 'bedroom', 'wood', 'trick', 'skiers', 'sand', 'rides', 'traveling', 'dark', 'be', 'snowboard', 'microwave', 'lady', 'keyboard', 'items', 'he', 'drinking', 'door', 'way', 'tray', 'river', 'restaurant', 'players', 'meat', 'like', 'set', 'line', 'kids', 'cup', 'all', 'about', 'watching', 'bridge', 'brick', 'book', 'toy', 'skateboarder', 'photograph', 'made', 'kid', 'coffee', 'bread', 'boys', 'surfer', 'shown', 'row', 'ramp', 'face', 'donuts', 'cut', 'cross', 'something', 'preparing', 'market', 'lake', 'half', 'dressed', 'decker', 'who', 'tub', 'surrounded', 'suitcase', 'slice', 'oranges', 'lying', 'lush', 'knife', 'him', 'gray', 'furniture', 'forest', 'enclosure', 'bicycle', 'bath', 'scene', 'purple', 'play', 'number', 'hands', 'bottle', 'beautiful', 'swing', 'screen', 'pulling', 'past', 'leaning', 'jacket', 'female', 'country', 'carrots', 'cabinets', 'animal', 'walks', 'waiting', 'shelf', 'pan', 'older', 'making', 'look', 'leaves', 'bag', 'zoo', 'someone', 'snowboarder', 'mouth', 'meal', 'grey', 'dress', 'controller', 'base', 'intersection', 'fries', 'few', 'displayed', 'clean', 'throwing', 'sun', 'store', 'stone', 'seen', 'police', 'onto', 'decorated', 'cute', 'chocolate', 'buses', 'between', 'variety', 'silver', 'showing', 'salad', 'rocks', 'lined', 'high', 'girls', 'fruits', 'engine', 'birthday', 'attached', 'adult', 'waves', 'trying', 'slices', 'sleeping', 'skateboarding', 'pitch', 'pile', 'pictures', 'painted', 'multiple', 'lit', 'hair', 'catch', 'types', 'surfing', 'stopped', 'setting', 'placed', 'outdoor', 'mounted', 'motor', 'helmet', 'gear', 'windows', 'underneath', 'tables', 'sofa', 'seat', 'resting', 'public', 'pizzas', 'moving', 'mouse', 'lap', 'hotel', 'hitting', 'flower', 'edge', 'cats', 'brushing', 'been', 'apple', 'working', 'uniform', 'shot', 'rock', 'ride', 'performing', 'passing', 'nearby', 'mountains', 'graffiti', 'floating', 'flies', 'five', 'drink', 'coming', 'colored', 'clocks', 'case', 'carriage', 'branch', 'books', 'bathtub', 'apples', 'tarmac', 'rain', 'others', 'office', 'just', 'have', 'fly', 'eaten', 'eat', 'doughnut', 'dish', 'cloudy', 'clear', 'bright', 'watches', 'walls', 'vases', 'trunk', 'tiled', 'teeth', 'she', 'school', 'sandy', 'plant', 'perched', 'pasture', 'or', 'modern', 'military', 'donut', 'dirty', 'dinner', 'desert', 'catcher', 'bikes', 'yard', 'wet', 'watch', 'tricks', 'toppings', 'toothbrush', 'surface', 'statue', 'shaped', 'scooter', 'sandwiches', 'rail', 'plastic', 'pieces', 'path', 'neck', 'mother', 'match', 'machine', 'legs', 'having', 'gathered', 'fork', 'crowded', 'crossing', 'containing', 'church', 'cart', 'candles', 'bushes', 'boxes', 'blender', 'beer', 'alone', 'vehicles', 'vehicle', 'towards', 'sunglasses', 'stairs', 'shop', 'rice', 'reading', 'plays', 'pitcher', 'not', 'nintendo', 'foods', 'fireplace', 'fenced', 'enjoying', 'end', 'dry', 'dining', 'curb', 'computers', 'christmas', 'center', 'cellphone', 'cattle', 'catching', 'brush', 'boards', 'boarding', 'blanket', 'bicycles', 'basket', 'bags', 'wild', 'trail', 'town', 'style', 'stacked', 'smiles', 'sliced', 'served', 'sauce', 'pulled', 'professional', 'pretty', 'pots', 'platform', 'place', 'phones', 'meter', 'hillside', 'french', 'feeding', 'distance', 'control', 'chicken', 'cement', 'can', 'bowls', 'bottles', 'boarder', 'benches', 'assortment', 'towel', 'toward', 'toddler', 'tile', 'taken', 'sunny', 'striped', 'sticking', 'sinks', 'single', 'shoes', 'rests', 'railroad', 'putting', 'potatoes', 'plants', 'planes', 'pillows', 'pen', 'no', 'landing', 'jumps', 'jump', 'huge', 'hotdog', 'fridge', 'fish', 'event', 'dock', 'cream', 'collection', 'clothes', 'business', 'atop', 'antique', 'wooded', 'wire', 'transit', 'things', 'steam', 'skateboards', 'serve', 'reaching', 'pool', 'pie', 'persons', 'overhead', 'monitor', 'mid', 'guys', 'graze', 'flag', 'equipment', 'doughnuts', 'cooking', 'cooked', 'container', 'cluttered', 'away', 'arm', 'appliances', 'vest', 'type', 'trains', 'toilets', 'steps', 'square', 'spoon', 'shore', 'shade', 'sale', 'run', 'right', 'rack', 'prepares', 'polar', 'picnic', 'party', 'outdoors', 'officer', 'mound', 'ledge', 'kind', 'hay', 'gold', 'giving', 'feet', 'fancy', 'couches', 'concrete', 'closeup', 'broken', 'asian', 'among', 'adults', 'action', 'woods', 'where', 'vintage', 'trucks', 'time', 'throw', 'tan', 'takes', 'take', 'surfers', 'surfboards', 'snowboarding', 'smoke', 'serving', 'rug', 'roof', 'pushing', 'pot', 'pond', 'poles', 'pastries', 'passengers', 'pants', 'overlooking', 'nice', 'mans', 'makes', 'low', 'laptops', 'guitar', 'growing', 'go', 'glove', 'fresh', 'flat', 'family', 'doors', 'dessert', 'colors', 'bush', 'bunches', 'both', 'blurry', 'bite', 'below', 'beds', 'bar', 'after', 'work', 'winter', 'travelling', 'tow', 'throws', 'swimming', 'supplies', 'suitcases', 'subway', 'still', 'space', 'soup', 'someones', 'skies', 'show', 'sheet', 'round', 'railing', 'pulls', 'pose', 'petting', 'pepperoni', 'pedestrians', 'narrow', 'lamp', 'ketchup', 'juice', 'island', 'ice', 'himself', 'hard', 'giant', 'get', 'games', 'eyes', 'drinks', 'displaying', 'decorative', 'curtain', 'coat', 'close-up', 'chips', 'chasing', 'carrot', 'cabinet', 'backpack', 'airplanes', 'airliner']\n",
            "mappings (dict) from caption token to index:  {'<NULL>': 0, '<START>': 1, '<END>': 2, '<UNK>': 3, 'a': 4, 'on': 5, 'of': 6, 'the': 7, 'in': 8, 'with': 9, 'and': 10, 'is': 11, 'man': 12, 'to': 13, 'sitting': 14, 'two': 15, 'an': 16, 'standing': 17, 'people': 18, 'are': 19, 'at': 20, 'next': 21, 'white': 22, 'woman': 23, 'table': 24, 'that': 25, 'street': 26, 'holding': 27, 'some': 28, 'person': 29, 'down': 30, 'large': 31, 'top': 32, 'group': 33, 'tennis': 34, 'field': 35, 'it': 36, 'plate': 37, 'up': 38, 'small': 39, 'riding': 40, 'room': 41, 'front': 42, 'near': 43, 'dog': 44, 'red': 45, 'his': 46, 'by': 47, 'black': 48, 'train': 49, 'baseball': 50, 'young': 51, 'cat': 52, 'water': 53, 'walking': 54, 'playing': 55, 'sign': 56, 'snow': 57, 'while': 58, 'pizza': 59, 'has': 60, 'bathroom': 61, 'kitchen': 62, 'there': 63, 'bus': 64, 'grass': 65, 'food': 66, 'blue': 67, 'green': 68, 'other': 69, 'beach': 70, 'couple': 71, 'ball': 72, 'building': 73, 'bed': 74, 'three': 75, 'parked': 76, 'men': 77, 'for': 78, 'flying': 79, 'side': 80, 'looking': 81, 'wooden': 82, 'toilet': 83, 'game': 84, 'road': 85, 'boy': 86, 'girl': 87, 'player': 88, 'laying': 89, 'skateboard': 90, 'city': 91, 'sits': 92, 'over': 93, 'wearing': 94, 'her': 95, 'eating': 96, 'frisbee': 97, 'several': 98, 'out': 99, 'bear': 100, 'through': 101, 'sink': 102, 'horse': 103, 'outside': 104, 'picture': 105, 'giraffe': 106, 'from': 107, 'phone': 108, 'around': 109, 'wall': 110, 'bench': 111, 'air': 112, 'each': 113, 'brown': 114, 'board': 115, 'clock': 116, 'yellow': 117, 'window': 118, 'laptop': 119, 'one': 120, 'its': 121, 'car': 122, 'area': 123, 'under': 124, 'stop': 125, 'park': 126, 'living': 127, 'covered': 128, 'cake': 129, 'behind': 130, 'court': 131, 'their': 132, 'open': 133, 'kite': 134, 'into': 135, 'elephant': 136, 'truck': 137, 'umbrella': 138, 'tree': 139, 'this': 140, 'airplane': 141, 'very': 142, 'sheep': 143, 'surfboard': 144, 'many': 145, 'trees': 146, 'close': 147, 'filled': 148, 'little': 149, 'old': 150, 'computer': 151, 'skis': 152, 'motorcycle': 153, 'big': 154, 'desk': 155, 'together': 156, 'bowl': 157, 'light': 158, 'sky': 159, 'as': 160, 'bunch': 161, 'background': 162, 'wave': 163, 'chair': 164, 'traffic': 165, 'teddy': 166, 'fire': 167, 'counter': 168, 'ocean': 169, 'sandwich': 170, 'plane': 171, 'cell': 172, 'inside': 173, 'glass': 174, 'giraffes': 175, 'sidewalk': 176, 'stands': 177, 'child': 178, 'boat': 179, 'back': 180, 'women': 181, 'orange': 182, 'cars': 183, 'photo': 184, 'bat': 185, 'horses': 186, 'skiing': 187, 'couch': 188, 'baby': 189, 'zebras': 190, 'fence': 191, 'bird': 192, 'sit': 193, 'racket': 194, 'hydrant': 195, 'view': 196, 'bananas': 197, 'grassy': 198, 'elephants': 199, 'stand': 200, 'shirt': 201, 'middle': 202, 'vegetables': 203, 'hill': 204, 'four': 205, 'flowers': 206, 'tie': 207, 'tall': 208, 'hand': 209, 'vase': 210, 'off': 211, 'grazing': 212, 'driving': 213, 'different': 214, 'zebra': 215, 'bike': 216, 'being': 217, 'ground': 218, 'mirror': 219, 'full': 220, 'hanging': 221, 'another': 222, 'tracks': 223, 'slope': 224, 'dirt': 225, 'along': 226, 'ready': 227, 'mountain': 228, 'lot': 229, 'wine': 230, 'station': 231, 'talking': 232, 'cows': 233, 'taking': 234, 'skate': 235, 'stuffed': 236, 'during': 237, 'day': 238, 'floor': 239, 'swinging': 240, 'signs': 241, 'pink': 242, 'herd': 243, 'airport': 244, 'ski': 245, 'head': 246, 'guy': 247, 'glasses': 248, 'display': 249, 'cutting': 250, 'above': 251, 'image': 252, 'fruit': 253, 'refrigerator': 254, 'holds': 255, 'going': 256, 'empty': 257, 'cow': 258, 'broccoli': 259, 'wii': 260, 'pair': 261, 'long': 262, 'colorful': 263, 'beside': 264, 'track': 265, 'surf': 266, 'stove': 267, 'pole': 268, 'parking': 269, 'crowd': 270, 'against': 271, 'tower': 272, 'luggage': 273, 'dogs': 274, 'snowy': 275, 'runway': 276, 'lots': 277, 'hat': 278, 'umbrellas': 279, 'smiling': 280, 'scissors': 281, 'kites': 282, 'getting': 283, 'buildings': 284, 'walk': 285, 'using': 286, 'chairs': 287, 'animals': 288, 'skier': 289, 'racquet': 290, 'posing': 291, 'passenger': 292, 'paper': 293, 'corner': 294, 'banana': 295, 'across': 296, 'topped': 297, 'them': 298, 'running': 299, 'piece': 300, 'night': 301, 'lights': 302, 'jumping': 303, 'hot': 304, 'hit': 305, 'video': 306, 'tv': 307, 'looks': 308, 'carrying': 309, 'suit': 310, 'remote': 311, 'oven': 312, 'home': 313, 'doing': 314, 'box': 315, 'body': 316, 'birds': 317, 'batter': 318, 'television': 319, 'plates': 320, 'house': 321, 'children': 322, 'camera': 323, 'busy': 324, 'boats': 325, 'various': 326, 'soccer': 327, 'motorcycles': 328, 'jet': 329, 'cheese': 330, 'bears': 331, 'shower': 332, 'metal': 333, 'male': 334, 'double': 335, 'bedroom': 336, 'wood': 337, 'trick': 338, 'skiers': 339, 'sand': 340, 'rides': 341, 'traveling': 342, 'dark': 343, 'be': 344, 'snowboard': 345, 'microwave': 346, 'lady': 347, 'keyboard': 348, 'items': 349, 'he': 350, 'drinking': 351, 'door': 352, 'way': 353, 'tray': 354, 'river': 355, 'restaurant': 356, 'players': 357, 'meat': 358, 'like': 359, 'set': 360, 'line': 361, 'kids': 362, 'cup': 363, 'all': 364, 'about': 365, 'watching': 366, 'bridge': 367, 'brick': 368, 'book': 369, 'toy': 370, 'skateboarder': 371, 'photograph': 372, 'made': 373, 'kid': 374, 'coffee': 375, 'bread': 376, 'boys': 377, 'surfer': 378, 'shown': 379, 'row': 380, 'ramp': 381, 'face': 382, 'donuts': 383, 'cut': 384, 'cross': 385, 'something': 386, 'preparing': 387, 'market': 388, 'lake': 389, 'half': 390, 'dressed': 391, 'decker': 392, 'who': 393, 'tub': 394, 'surrounded': 395, 'suitcase': 396, 'slice': 397, 'oranges': 398, 'lying': 399, 'lush': 400, 'knife': 401, 'him': 402, 'gray': 403, 'furniture': 404, 'forest': 405, 'enclosure': 406, 'bicycle': 407, 'bath': 408, 'scene': 409, 'purple': 410, 'play': 411, 'number': 412, 'hands': 413, 'bottle': 414, 'beautiful': 415, 'swing': 416, 'screen': 417, 'pulling': 418, 'past': 419, 'leaning': 420, 'jacket': 421, 'female': 422, 'country': 423, 'carrots': 424, 'cabinets': 425, 'animal': 426, 'walks': 427, 'waiting': 428, 'shelf': 429, 'pan': 430, 'older': 431, 'making': 432, 'look': 433, 'leaves': 434, 'bag': 435, 'zoo': 436, 'someone': 437, 'snowboarder': 438, 'mouth': 439, 'meal': 440, 'grey': 441, 'dress': 442, 'controller': 443, 'base': 444, 'intersection': 445, 'fries': 446, 'few': 447, 'displayed': 448, 'clean': 449, 'throwing': 450, 'sun': 451, 'store': 452, 'stone': 453, 'seen': 454, 'police': 455, 'onto': 456, 'decorated': 457, 'cute': 458, 'chocolate': 459, 'buses': 460, 'between': 461, 'variety': 462, 'silver': 463, 'showing': 464, 'salad': 465, 'rocks': 466, 'lined': 467, 'high': 468, 'girls': 469, 'fruits': 470, 'engine': 471, 'birthday': 472, 'attached': 473, 'adult': 474, 'waves': 475, 'trying': 476, 'slices': 477, 'sleeping': 478, 'skateboarding': 479, 'pitch': 480, 'pile': 481, 'pictures': 482, 'painted': 483, 'multiple': 484, 'lit': 485, 'hair': 486, 'catch': 487, 'types': 488, 'surfing': 489, 'stopped': 490, 'setting': 491, 'placed': 492, 'outdoor': 493, 'mounted': 494, 'motor': 495, 'helmet': 496, 'gear': 497, 'windows': 498, 'underneath': 499, 'tables': 500, 'sofa': 501, 'seat': 502, 'resting': 503, 'public': 504, 'pizzas': 505, 'moving': 506, 'mouse': 507, 'lap': 508, 'hotel': 509, 'hitting': 510, 'flower': 511, 'edge': 512, 'cats': 513, 'brushing': 514, 'been': 515, 'apple': 516, 'working': 517, 'uniform': 518, 'shot': 519, 'rock': 520, 'ride': 521, 'performing': 522, 'passing': 523, 'nearby': 524, 'mountains': 525, 'graffiti': 526, 'floating': 527, 'flies': 528, 'five': 529, 'drink': 530, 'coming': 531, 'colored': 532, 'clocks': 533, 'case': 534, 'carriage': 535, 'branch': 536, 'books': 537, 'bathtub': 538, 'apples': 539, 'tarmac': 540, 'rain': 541, 'others': 542, 'office': 543, 'just': 544, 'have': 545, 'fly': 546, 'eaten': 547, 'eat': 548, 'doughnut': 549, 'dish': 550, 'cloudy': 551, 'clear': 552, 'bright': 553, 'watches': 554, 'walls': 555, 'vases': 556, 'trunk': 557, 'tiled': 558, 'teeth': 559, 'she': 560, 'school': 561, 'sandy': 562, 'plant': 563, 'perched': 564, 'pasture': 565, 'or': 566, 'modern': 567, 'military': 568, 'donut': 569, 'dirty': 570, 'dinner': 571, 'desert': 572, 'catcher': 573, 'bikes': 574, 'yard': 575, 'wet': 576, 'watch': 577, 'tricks': 578, 'toppings': 579, 'toothbrush': 580, 'surface': 581, 'statue': 582, 'shaped': 583, 'scooter': 584, 'sandwiches': 585, 'rail': 586, 'plastic': 587, 'pieces': 588, 'path': 589, 'neck': 590, 'mother': 591, 'match': 592, 'machine': 593, 'legs': 594, 'having': 595, 'gathered': 596, 'fork': 597, 'crowded': 598, 'crossing': 599, 'containing': 600, 'church': 601, 'cart': 602, 'candles': 603, 'bushes': 604, 'boxes': 605, 'blender': 606, 'beer': 607, 'alone': 608, 'vehicles': 609, 'vehicle': 610, 'towards': 611, 'sunglasses': 612, 'stairs': 613, 'shop': 614, 'rice': 615, 'reading': 616, 'plays': 617, 'pitcher': 618, 'not': 619, 'nintendo': 620, 'foods': 621, 'fireplace': 622, 'fenced': 623, 'enjoying': 624, 'end': 625, 'dry': 626, 'dining': 627, 'curb': 628, 'computers': 629, 'christmas': 630, 'center': 631, 'cellphone': 632, 'cattle': 633, 'catching': 634, 'brush': 635, 'boards': 636, 'boarding': 637, 'blanket': 638, 'bicycles': 639, 'basket': 640, 'bags': 641, 'wild': 642, 'trail': 643, 'town': 644, 'style': 645, 'stacked': 646, 'smiles': 647, 'sliced': 648, 'served': 649, 'sauce': 650, 'pulled': 651, 'professional': 652, 'pretty': 653, 'pots': 654, 'platform': 655, 'place': 656, 'phones': 657, 'meter': 658, 'hillside': 659, 'french': 660, 'feeding': 661, 'distance': 662, 'control': 663, 'chicken': 664, 'cement': 665, 'can': 666, 'bowls': 667, 'bottles': 668, 'boarder': 669, 'benches': 670, 'assortment': 671, 'towel': 672, 'toward': 673, 'toddler': 674, 'tile': 675, 'taken': 676, 'sunny': 677, 'striped': 678, 'sticking': 679, 'sinks': 680, 'single': 681, 'shoes': 682, 'rests': 683, 'railroad': 684, 'putting': 685, 'potatoes': 686, 'plants': 687, 'planes': 688, 'pillows': 689, 'pen': 690, 'no': 691, 'landing': 692, 'jumps': 693, 'jump': 694, 'huge': 695, 'hotdog': 696, 'fridge': 697, 'fish': 698, 'event': 699, 'dock': 700, 'cream': 701, 'collection': 702, 'clothes': 703, 'business': 704, 'atop': 705, 'antique': 706, 'wooded': 707, 'wire': 708, 'transit': 709, 'things': 710, 'steam': 711, 'skateboards': 712, 'serve': 713, 'reaching': 714, 'pool': 715, 'pie': 716, 'persons': 717, 'overhead': 718, 'monitor': 719, 'mid': 720, 'guys': 721, 'graze': 722, 'flag': 723, 'equipment': 724, 'doughnuts': 725, 'cooking': 726, 'cooked': 727, 'container': 728, 'cluttered': 729, 'away': 730, 'arm': 731, 'appliances': 732, 'vest': 733, 'type': 734, 'trains': 735, 'toilets': 736, 'steps': 737, 'square': 738, 'spoon': 739, 'shore': 740, 'shade': 741, 'sale': 742, 'run': 743, 'right': 744, 'rack': 745, 'prepares': 746, 'polar': 747, 'picnic': 748, 'party': 749, 'outdoors': 750, 'officer': 751, 'mound': 752, 'ledge': 753, 'kind': 754, 'hay': 755, 'gold': 756, 'giving': 757, 'feet': 758, 'fancy': 759, 'couches': 760, 'concrete': 761, 'closeup': 762, 'broken': 763, 'asian': 764, 'among': 765, 'adults': 766, 'action': 767, 'woods': 768, 'where': 769, 'vintage': 770, 'trucks': 771, 'time': 772, 'throw': 773, 'tan': 774, 'takes': 775, 'take': 776, 'surfers': 777, 'surfboards': 778, 'snowboarding': 779, 'smoke': 780, 'serving': 781, 'rug': 782, 'roof': 783, 'pushing': 784, 'pot': 785, 'pond': 786, 'poles': 787, 'pastries': 788, 'passengers': 789, 'pants': 790, 'overlooking': 791, 'nice': 792, 'mans': 793, 'makes': 794, 'low': 795, 'laptops': 796, 'guitar': 797, 'growing': 798, 'go': 799, 'glove': 800, 'fresh': 801, 'flat': 802, 'family': 803, 'doors': 804, 'dessert': 805, 'colors': 806, 'bush': 807, 'bunches': 808, 'both': 809, 'blurry': 810, 'bite': 811, 'below': 812, 'beds': 813, 'bar': 814, 'after': 815, 'work': 816, 'winter': 817, 'travelling': 818, 'tow': 819, 'throws': 820, 'swimming': 821, 'supplies': 822, 'suitcases': 823, 'subway': 824, 'still': 825, 'space': 826, 'soup': 827, 'someones': 828, 'skies': 829, 'show': 830, 'sheet': 831, 'round': 832, 'railing': 833, 'pulls': 834, 'pose': 835, 'petting': 836, 'pepperoni': 837, 'pedestrians': 838, 'narrow': 839, 'lamp': 840, 'ketchup': 841, 'juice': 842, 'island': 843, 'ice': 844, 'himself': 845, 'hard': 846, 'giant': 847, 'get': 848, 'games': 849, 'eyes': 850, 'drinks': 851, 'displaying': 852, 'decorative': 853, 'curtain': 854, 'coat': 855, 'close-up': 856, 'chips': 857, 'chasing': 858, 'carrot': 859, 'cabinet': 860, 'backpack': 861, 'airplanes': 862, 'airliner': 863}\n"
          ],
          "name": "stdout"
        }
      ]
    },
    {
      "cell_type": "markdown",
      "metadata": {
        "colab_type": "text",
        "id": "80RW_nSH6bhH"
      },
      "source": [
        "## Look at the data\n",
        "It is always a good idea to look at examples from the dataset before working with it.\n",
        "\n",
        "Run the following to sample a small minibatch of training data and show the images and their captions. Running it multiple times and looking at the results helps you to get a sense of the dataset.\n",
        "\n",
        "Note that we decode the captions using the `decode_captions` function."
      ]
    },
    {
      "cell_type": "code",
      "metadata": {
        "colab_type": "code",
        "id": "l-oiW9Ut6bhH",
        "colab": {
          "base_uri": "https://localhost:8080/",
          "height": 1000
        },
        "outputId": "08ce2675-af86-4e8f-d722-8f02203820bc"
      },
      "source": [
        "# Sample a minibatch and show the reshaped 112x112 images and captions\n",
        "batch_size = 3\n",
        "\n",
        "sample_idx = torch.randint(0, num_train, (batch_size,))\n",
        "sample_images = data_dict['train_images'][sample_idx]\n",
        "sample_captions = data_dict['train_captions'][sample_idx]\n",
        "for i in range(batch_size):\n",
        "  plt.imshow(sample_images[i].permute(1, 2, 0))\n",
        "  plt.axis('off')\n",
        "  caption_str = decode_captions(sample_captions[i], data_dict['vocab']['idx_to_token'])\n",
        "  plt.title(caption_str)\n",
        "  plt.show()"
      ],
      "execution_count": 5,
      "outputs": [
        {
          "output_type": "display_data",
          "data": {
            "image/png": "[encoded data removed]",
            "text/plain": [
              "<Figure size 720x576 with 1 Axes>"
            ]
          },
          "metadata": {
            "tags": [],
            "needs_background": "light"
          }
        },
        {
          "output_type": "display_data",
          "data": {
            "image/png": "[encoded data removed]",
            "text/plain": [
              "<Figure size 720x576 with 1 Axes>"
            ]
          },
          "metadata": {
            "tags": [],
            "needs_background": "light"
          }
        },
        {
          "output_type": "display_data",
          "data": {
            "image/png": "[encoded data removed]",
            "text/plain": [
              "<Figure size 720x576 with 1 Axes>"
            ]
          },
          "metadata": {
            "tags": [],
            "needs_background": "light"
          }
        }
      ]
    },
    {
      "cell_type": "markdown",
      "metadata": {
        "colab_type": "text",
        "id": "b2SQMNIH6bhJ"
      },
      "source": [
        "# Recurrent Neural Networks\n",
        "As discussed in lecture, we will use Recurrent Neural Network (RNN) language models for image captioning. We will cover the vanilla RNN model first and later LSTM and attention-based language models."
      ]
    },
    {
      "cell_type": "markdown",
      "metadata": {
        "colab_type": "text",
        "id": "6XHZMI356bhJ"
      },
      "source": [
        "## Vanilla RNN: step forward\n",
        "First implement the forward pass for a single timestep of a vanilla recurrent neural network."
      ]
    },
    {
      "cell_type": "code",
      "metadata": {
        "colab_type": "code",
        "id": "NoRPdqKihJjy",
        "colab": {}
      },
      "source": [
        "def rnn_step_forward(x, prev_h, Wx, Wh, b):\n",
        "    \"\"\"\n",
        "    Run the forward pass for a single timestep of a vanilla RNN that uses a tanh\n",
        "    activation function.\n",
        "\n",
        "    The input data has dimension D, the hidden state has dimension H, and we use\n",
        "    a minibatch size of N.\n",
        "\n",
        "    Inputs:\n",
        "    - x: Input data for this timestep, of shape (N, D).\n",
        "    - prev_h: Hidden state from previous timestep, of shape (N, H)\n",
        "    - Wx: Weight matrix for input-to-hidden connections, of shape (D, H)\n",
        "    - Wh: Weight matrix for hidden-to-hidden connections, of shape (H, H)\n",
        "    - b: Biases, of shape (H,)\n",
        "\n",
        "    Returns a tuple of:\n",
        "    - next_h: Next hidden state, of shape (N, H)\n",
        "    - cache: Tuple of values needed for the backward pass.\n",
        "    \"\"\"\n",
        "    next_h, cache = None, None\n",
        "    ##############################################################################\n",
        "    # TODO: Implement a single forward step for the vanilla RNN. Store the next  #\n",
        "    # hidden state and any values you need for the backward pass in the next_h   #\n",
        "    # and cache variables respectively.                                          #\n",
        "    ##############################################################################\n",
        "    # Replace \"pass\" statement with your code\n",
        "    next_h = torch.tanh(x.mm(Wx) + prev_h.mm(Wh) + b ) \n",
        "    cache = (x, prev_h, Wx, Wh, next_h)\n",
        "    ##############################################################################\n",
        "    #                               END OF YOUR CODE                             #\n",
        "    ##############################################################################\n",
        "    return next_h, cache"
      ],
      "execution_count": 6,
      "outputs": []
    },
    {
      "cell_type": "markdown",
      "metadata": {
        "colab_type": "text",
        "id": "TLhpgKhlhSse"
      },
      "source": [
        "Run the following to check your implementation. You should see errors on the order of 1e-8 or less."
      ]
    },
    {
      "cell_type": "code",
      "metadata": {
        "colab_type": "code",
        "id": "c3oU8JJj6bhK",
        "colab": {
          "base_uri": "https://localhost:8080/",
          "height": 35
        },
        "outputId": "9d0931ea-1cee-482b-d4e0-f0c367a164c2"
      },
      "source": [
        "N, D, H = 3, 10, 4\n",
        "\n",
        "x = torch.linspace(-0.4, 0.7, steps=N*D, **to_double_cuda).reshape(N, D)\n",
        "prev_h = torch.linspace(-0.2, 0.5, steps=N*H, **to_double_cuda).reshape(N, H)\n",
        "Wx = torch.linspace(-0.1, 0.9, steps=D*H, **to_double_cuda).reshape(D, H)\n",
        "Wh = torch.linspace(-0.3, 0.7, steps=H*H, **to_double_cuda).reshape(H, H)\n",
        "b = torch.linspace(-0.2, 0.4, steps=H, **to_double_cuda)\n",
        "\n",
        "next_h, _ = rnn_step_forward(x, prev_h, Wx, Wh, b)\n",
        "expected_next_h = torch.tensor([\n",
        "  [-0.58172089, -0.50182032, -0.41232771, -0.31410098],\n",
        "  [ 0.66854692,  0.79562378,  0.87755553,  0.92795967],\n",
        "  [ 0.97934501,  0.99144213,  0.99646691,  0.99854353]], **to_double_cuda)\n",
        "\n",
        "print('next_h error: ', rel_error(expected_next_h, next_h))"
      ],
      "execution_count": 7,
      "outputs": [
        {
          "output_type": "stream",
          "text": [
            "next_h error:  1.258484277375294e-08\n"
          ],
          "name": "stdout"
        }
      ]
    },
    {
      "cell_type": "markdown",
      "metadata": {
        "colab_type": "text",
        "id": "tid-ljPA6bhL"
      },
      "source": [
        "## Vanilla RNN: step backward\n",
        "Then implement the backward pass for a single timestep of a vanilla recurrent neural network."
      ]
    },
    {
      "cell_type": "code",
      "metadata": {
        "colab_type": "code",
        "id": "_VpwjpiAhdqm",
        "colab": {}
      },
      "source": [
        "def rnn_step_backward(dnext_h, cache):\n",
        "    \"\"\"\n",
        "    Backward pass for a single timestep of a vanilla RNN.\n",
        "\n",
        "    Inputs:\n",
        "    - dnext_h: Gradient of loss with respect to next hidden state, of shape (N, H)\n",
        "    - cache: Cache object from the forward pass\n",
        "\n",
        "    Returns a tuple of:\n",
        "    - dx: Gradients of input data, of shape (N, D)\n",
        "    - dprev_h: Gradients of previous hidden state, of shape (N, H)\n",
        "    - dWx: Gradients of input-to-hidden weights, of shape (D, H)\n",
        "    - dWh: Gradients of hidden-to-hidden weights, of shape (H, H)\n",
        "    - db: Gradients of bias vector, of shape (H,)\n",
        "    \"\"\"\n",
        "    dx, dprev_h, dWx, dWh, db = None, None, None, None, None\n",
        "    ##############################################################################\n",
        "    # TODO: Implement the backward pass for a single step of a vanilla RNN.      #\n",
        "    #                                                                            #\n",
        "    # HINT: For the tanh function, you can compute the local derivative in terms #\n",
        "    # of the output value from tanh.                                             #\n",
        "    ##############################################################################\n",
        "    # Replace \"pass\" statement with your code\n",
        "    (x, prev_h, Wx, Wh, next_h) = cache   \n",
        "    dout = (dnext_h) *  (1 - next_h ** 2)\n",
        "    dx = dout.mm(Wx.t())\n",
        "    dWx = x.t().mm(dout)\n",
        "    dWh = prev_h.t().mm(dout)\n",
        "    db = torch.sum(dout, axis = 0)\n",
        "    dprev_h = dout.mm(Wh.t())\n",
        "    ##############################################################################\n",
        "    #                               END OF YOUR CODE                             #\n",
        "    ##############################################################################\n",
        "    return dx, dprev_h, dWx, dWh, db"
      ],
      "execution_count": 8,
      "outputs": []
    },
    {
      "cell_type": "markdown",
      "metadata": {
        "colab_type": "text",
        "id": "K0ALCpQMhpKP"
      },
      "source": [
        "Run the following to numerically gradient check your implementation. You should see errors on the order of `1e-8` or less."
      ]
    },
    {
      "cell_type": "code",
      "metadata": {
        "colab_type": "code",
        "id": "KPyfJofC6bhM",
        "colab": {
          "base_uri": "https://localhost:8080/",
          "height": 105
        },
        "outputId": "47d8fc0e-6d07-4d4b-bc17-5a10df26d2de"
      },
      "source": [
        "fix_random_seed(0)\n",
        "N, D, H = 4, 5, 6\n",
        "x = torch.randn(N, D, **to_double_cuda)\n",
        "h = torch.randn(N, H, **to_double_cuda)\n",
        "Wx = torch.randn(D, H, **to_double_cuda)\n",
        "Wh = torch.randn(H, H, **to_double_cuda)\n",
        "b = torch.randn(H, **to_double_cuda)\n",
        "\n",
        "out, cache = rnn_step_forward(x, h, Wx, Wh, b)\n",
        "\n",
        "dnext_h = torch.randn(*out.shape, **to_double_cuda)\n",
        "\n",
        "fx = lambda x: rnn_step_forward(x, h, Wx, Wh, b)[0]\n",
        "fh = lambda h: rnn_step_forward(x, h, Wx, Wh, b)[0]\n",
        "fWx = lambda Wx: rnn_step_forward(x, h, Wx, Wh, b)[0]\n",
        "fWh = lambda Wh: rnn_step_forward(x, h, Wx, Wh, b)[0]\n",
        "fb = lambda b: rnn_step_forward(x, h, Wx, Wh, b)[0]\n",
        "\n",
        "dx_num = compute_numeric_gradient(fx, x, dnext_h)\n",
        "dprev_h_num = compute_numeric_gradient(fh, h, dnext_h)\n",
        "dWx_num = compute_numeric_gradient(fWx, Wx, dnext_h)\n",
        "dWh_num = compute_numeric_gradient(fWh, Wh, dnext_h)\n",
        "db_num = compute_numeric_gradient(fb, b, dnext_h)\n",
        "\n",
        "dx, dprev_h, dWx, dWh, db = rnn_step_backward(dnext_h, cache)\n",
        "\n",
        "print('dx error: ', rel_error(dx_num, dx))\n",
        "print('dprev_h error: ', rel_error(dprev_h_num, dprev_h))\n",
        "print('dWx error: ', rel_error(dWx_num, dWx))\n",
        "print('dWh error: ', rel_error(dWh_num, dWh))\n",
        "print('db error: ', rel_error(db_num, db))"
      ],
      "execution_count": 9,
      "outputs": [
        {
          "output_type": "stream",
          "text": [
            "dx error:  3.695557472505129e-10\n",
            "dprev_h error:  2.456737086896098e-10\n",
            "dWx error:  6.012991213152496e-09\n",
            "dWh error:  6.749797054754786e-09\n",
            "db error:  2.8472153676495144e-10\n"
          ],
          "name": "stdout"
        }
      ]
    },
    {
      "cell_type": "markdown",
      "metadata": {
        "colab_type": "text",
        "id": "vjZjH5JW6bhN"
      },
      "source": [
        "## Vanilla RNN: forward\n",
        "Now that you have implemented the forward and backward passes for a single timestep of a vanilla RNN, you will combine these pieces to implement a RNN that processes an entire sequence of data. First implement the forward pass by making calls to the `rnn_step_forward` function that you defined earlier."
      ]
    },
    {
      "cell_type": "code",
      "metadata": {
        "colab_type": "code",
        "id": "rOKYPN5BhtJg",
        "colab": {}
      },
      "source": [
        "def rnn_forward(x, h0, Wx, Wh, b):\n",
        "    \"\"\"\n",
        "    Run a vanilla RNN forward on an entire sequence of data. We assume an input\n",
        "    sequence composed of T vectors, each of dimension D. The RNN uses a hidden\n",
        "    size of H, and we work over a minibatch containing N sequences. After running\n",
        "    the RNN forward, we return the hidden states for all timesteps.\n",
        "\n",
        "    Inputs:\n",
        "    - x: Input data for the entire timeseries, of shape (N, T, D).\n",
        "    - h0: Initial hidden state, of shape (N, H)\n",
        "    - Wx: Weight matrix for input-to-hidden connections, of shape (D, H)\n",
        "    - Wh: Weight matrix for hidden-to-hidden connections, of shape (H, H)\n",
        "    - b: Biases, of shape (H,)\n",
        "\n",
        "    Returns a tuple of:\n",
        "    - h: Hidden states for the entire timeseries, of shape (N, T, H).\n",
        "    - cache: Values needed in the backward pass\n",
        "    \"\"\"\n",
        "    h, cache = None, []\n",
        "    ##############################################################################\n",
        "    # TODO: Implement forward pass for a vanilla RNN running on a sequence of    #\n",
        "    # input data. You should use the rnn_step_forward function that you defined  #\n",
        "    # above. You can use a for loop to help compute the forward pass.            #\n",
        "    ##############################################################################\n",
        "    # Replace \"pass\" statement with your code\n",
        "    h = torch.zeros((x.shape[0], x.shape[1], h0.shape[1]),dtype=x.dtype,device=x.device)\n",
        "    for i in range(x.shape[1]):\n",
        "      if i == 0:\n",
        "        h[:,0,:], cache_cur = rnn_step_forward(x[:,0,:], h0.clone(), Wx, Wh, b) \n",
        "      else:\n",
        "        h[:,i,:], cache_cur = rnn_step_forward(x[:,i,:], h[:,i-1,:].clone(), Wx, Wh, b)\n",
        "      cache.append(cache_cur)\n",
        "    ##############################################################################\n",
        "    #                               END OF YOUR CODE                             #\n",
        "    ##############################################################################\n",
        "    return h, cache"
      ],
      "execution_count": 10,
      "outputs": []
    },
    {
      "cell_type": "markdown",
      "metadata": {
        "colab_type": "text",
        "id": "C4VuA3KVh4Tl"
      },
      "source": [
        "Run the following to check your implementation. You should see errors on the order of `1e-6` or less."
      ]
    },
    {
      "cell_type": "code",
      "metadata": {
        "colab_type": "code",
        "id": "_GQWEn3Z6bhO",
        "colab": {
          "base_uri": "https://localhost:8080/",
          "height": 35
        },
        "outputId": "0f7e9819-4385-4769-b286-a07f934b0f92"
      },
      "source": [
        "N, T, D, H = 2, 3, 4, 5\n",
        "\n",
        "x = torch.linspace(-0.1, 0.3, steps=N*T*D, **to_double_cuda).reshape(N, T, D)\n",
        "h0 = torch.linspace(-0.3, 0.1, steps=N*H, **to_double_cuda).reshape(N, H)\n",
        "Wx = torch.linspace(-0.2, 0.4, steps=D*H, **to_double_cuda).reshape(D, H)\n",
        "Wh = torch.linspace(-0.4, 0.1, steps=H*H, **to_double_cuda).reshape(H, H)\n",
        "b = torch.linspace(-0.7, 0.1, steps=H, **to_double_cuda)\n",
        "\n",
        "h, _ = rnn_forward(x, h0, Wx, Wh, b)\n",
        "expected_h = torch.tensor([\n",
        "  [\n",
        "    [-0.42070749, -0.27279261, -0.11074945,  0.05740409,  0.22236251],\n",
        "    [-0.39525808, -0.22554661, -0.0409454,   0.14649412,  0.32397316],\n",
        "    [-0.42305111, -0.24223728, -0.04287027,  0.15997045,  0.35014525],\n",
        "  ],\n",
        "  [\n",
        "    [-0.55857474, -0.39065825, -0.19198182,  0.02378408,  0.23735671],\n",
        "    [-0.27150199, -0.07088804,  0.13562939,  0.33099728,  0.50158768],\n",
        "    [-0.51014825, -0.30524429, -0.06755202,  0.17806392,  0.40333043]]], **to_double_cuda)\n",
        "print('h error: ', rel_error(expected_h, h))"
      ],
      "execution_count": 11,
      "outputs": [
        {
          "output_type": "stream",
          "text": [
            "h error:  1.5456933554956015e-07\n"
          ],
          "name": "stdout"
        }
      ]
    },
    {
      "cell_type": "markdown",
      "metadata": {
        "colab_type": "text",
        "id": "P570PTsw6bhP"
      },
      "source": [
        "## Vanilla RNN: backward\n",
        "Implement the backward pass for a vanilla RNN in the function `rnn_backward`. This should run back-propagation over the entire sequence, making calls to the `rnn_step_backward` function that you defined earlier."
      ]
    },
    {
      "cell_type": "code",
      "metadata": {
        "colab_type": "code",
        "id": "GESGr4gUh9yP",
        "colab": {}
      },
      "source": [
        "def rnn_backward(dh, cache):\n",
        "    \"\"\"\n",
        "    Compute the backward pass for a vanilla RNN over an entire sequence of data.\n",
        "\n",
        "    Inputs:\n",
        "    - dh: Upstream gradients of all hidden states, of shape (N, T, H). \n",
        "    \n",
        "    NOTE: 'dh' contains the upstream gradients produced by the \n",
        "    individual loss functions at each timestep, *not* the gradients\n",
        "    being passed between timesteps (which you'll have to compute yourself\n",
        "    by calling rnn_step_backward in a loop).\n",
        "\n",
        "    Returns a tuple of:\n",
        "    - dx: Gradient of inputs, of shape (N, T, D)\n",
        "    - dh0: Gradient of initial hidden state, of shape (N, H)\n",
        "    - dWx: Gradient of input-to-hidden weights, of shape (D, H)\n",
        "    - dWh: Gradient of hidden-to-hidden weights, of shape (H, H)\n",
        "    - db: Gradient of biases, of shape (H,)\n",
        "    \"\"\"\n",
        "    dx, dh0, dWx, dWh, db = None, None, None, None, None\n",
        "    ##############################################################################\n",
        "    # TODO: Implement the backward pass for a vanilla RNN running an entire      #\n",
        "    # sequence of data. You should use the rnn_step_backward function that you   #\n",
        "    # defined above. You can use a for loop to help compute the backward pass.   #\n",
        "    ##############################################################################\n",
        "    # Replace \"pass\" statement with your code\n",
        "    for i in range(dh.shape[1]-1,-1,-1): \n",
        "      if i == dh.shape[1] - 1 : \n",
        "         dh_step = dh[:,i,:]\n",
        "      else : \n",
        "        dh_step += dh[:,i,:]\n",
        "      dx_step, dh_step, dWx_step, dWh_step, db_step = rnn_step_backward(dh_step,cache[i])\n",
        "      if i == dh.shape[1] - 1 : \n",
        "        dx = torch.zeros((dx_step.shape[0],dh.shape[1],dx_step.shape[1]),dtype=x.dtype,device=x.device)\n",
        "        dWx =  torch.zeros(dWx_step.shape,dtype=x.dtype,device=x.device)\n",
        "        dWh = torch.zeros(dWh_step.shape,dtype=x.dtype,device=x.device)\n",
        "        db = torch.zeros(db_step.shape,dtype=x.dtype,device=x.device)\n",
        "        dh0 = torch.zeros(dh_step.shape,dtype=x.dtype,device=x.device)\n",
        "      dx[:,i,:] = dx_step\n",
        "      dWx += dWx_step\n",
        "      dWh += dWh_step\n",
        "      dh0 = dh_step\n",
        "      db += db_step \n",
        "\n",
        "\n",
        "\n",
        "      \n",
        "\n",
        "      \n",
        "    ##############################################################################\n",
        "    #                               END OF YOUR CODE                             #\n",
        "    ##############################################################################\n",
        "    return dx, dh0, dWx, dWh, db"
      ],
      "execution_count": 12,
      "outputs": []
    },
    {
      "cell_type": "markdown",
      "metadata": {
        "colab_type": "text",
        "id": "EX6--VsGiDwK"
      },
      "source": [
        " You should see errors on the order of 1e-7 or less."
      ]
    },
    {
      "cell_type": "code",
      "metadata": {
        "colab_type": "code",
        "id": "Ny25RusA6bhQ",
        "colab": {
          "base_uri": "https://localhost:8080/",
          "height": 105
        },
        "outputId": "331a17a5-12cf-47f6-80b8-097ec521a22d"
      },
      "source": [
        "fix_random_seed(0)\n",
        "\n",
        "N, D, T, H = 2, 3, 10, 5\n",
        "\n",
        "x = torch.randn(N, T, D, **to_double_cuda)\n",
        "h0 = torch.randn(N, H, **to_double_cuda)\n",
        "Wx = torch.randn(D, H, **to_double_cuda)\n",
        "Wh = torch.randn(H, H, **to_double_cuda)\n",
        "b = torch.randn(H, **to_double_cuda)\n",
        "\n",
        "out, cache = rnn_forward(x, h0, Wx, Wh, b)\n",
        "\n",
        "dout = torch.randn(*out.shape, **to_double_cuda)\n",
        "\n",
        "dx, dh0, dWx, dWh, db = rnn_backward(dout, cache)\n",
        "\n",
        "fx = lambda x: rnn_forward(x, h0, Wx, Wh, b)[0]\n",
        "fh0 = lambda h0: rnn_forward(x, h0, Wx, Wh, b)[0]\n",
        "fWx = lambda Wx: rnn_forward(x, h0, Wx, Wh, b)[0]\n",
        "fWh = lambda Wh: rnn_forward(x, h0, Wx, Wh, b)[0]\n",
        "fb = lambda b: rnn_forward(x, h0, Wx, Wh, b)[0]\n",
        "\n",
        "dx_num = compute_numeric_gradient(fx, x, dout)\n",
        "dh0_num = compute_numeric_gradient(fh0, h0, dout)\n",
        "dWx_num = compute_numeric_gradient(fWx, Wx, dout)\n",
        "dWh_num = compute_numeric_gradient(fWh, Wh, dout)\n",
        "db_num = compute_numeric_gradient(fb, b, dout)\n",
        "\n",
        "print('dx error: ', rel_error(dx_num, dx))\n",
        "print('dh0 error: ', rel_error(dh0_num, dh0))\n",
        "print('dWx error: ', rel_error(dWx_num, dWx))\n",
        "print('dWh error: ', rel_error(dWh_num, dWh))\n",
        "print('db error: ', rel_error(db_num, db))"
      ],
      "execution_count": 13,
      "outputs": [
        {
          "output_type": "stream",
          "text": [
            "dx error:  1.7675491677692504e-09\n",
            "dh0 error:  1.8813826384287535e-10\n",
            "dWx error:  1.6250820199536663e-09\n",
            "dWh error:  1.8012140941210594e-09\n",
            "db error:  2.9382578713359364e-10\n"
          ],
          "name": "stdout"
        }
      ]
    },
    {
      "cell_type": "markdown",
      "metadata": {
        "colab_type": "text",
        "id": "oEDUmZOkU_LO"
      },
      "source": [
        "## Vanilla RNN: backward with autograd\n",
        "Now it's time to introduce the lifesaver PyTorch Automatic Differantiation package - `torch.autograd`!\n",
        "\n",
        "`torch.autograd` provides classes and functions implementing **automatic differentiation** of arbitrary scalar valued functions. It requires minimal changes to the existing code - if you pass tensors with `requires_grad=True` to the forward function you wrote earlier, you can just call `.backward(gradient=grad)` on the output to compute gradients on the input and weights.\n",
        "\n",
        "Now we can compare the manual backward pass with the autograd backward pass. **Read through the following.**  You should get a relative error less than 1e-12."
      ]
    },
    {
      "cell_type": "code",
      "metadata": {
        "colab_type": "code",
        "id": "5AMXoqNOVRa_",
        "colab": {
          "base_uri": "https://localhost:8080/",
          "height": 105
        },
        "outputId": "27a672fb-8451-432e-f155-f0bb49e2a603"
      },
      "source": [
        "fix_random_seed(0)\n",
        "\n",
        "N, D, T, H = 2, 3, 10, 5\n",
        "\n",
        "# set requires_grad=True\n",
        "x = torch.randn(N, T, D, **to_double_cuda, requires_grad=True)\n",
        "h0 = torch.randn(N, H, **to_double_cuda, requires_grad=True)\n",
        "Wx = torch.randn(D, H, **to_double_cuda, requires_grad=True)\n",
        "Wh = torch.randn(H, H, **to_double_cuda, requires_grad=True)\n",
        "b = torch.randn(H, **to_double_cuda, requires_grad=True)\n",
        "\n",
        "out, cache = rnn_forward(x, h0, Wx, Wh, b)\n",
        "\n",
        "dout = torch.randn(*out.shape, **to_double_cuda)\n",
        "\n",
        "# manual backward\n",
        "with torch.no_grad():\n",
        "  dx, dh0, dWx, dWh, db = rnn_backward(dout, cache)\n",
        "\n",
        "# backward with autograd\n",
        "out.backward(dout) # the magic happens here!\n",
        "dx_auto, dh0_auto, dWx_auto, dWh_auto, db_auto = \\\n",
        "  x.grad, h0.grad, Wx.grad, Wh.grad, b.grad\n",
        "\n",
        "print('dx error: ', rel_error(dx_auto, dx))\n",
        "print('dh0 error: ', rel_error(dh0_auto, dh0))\n",
        "print('dWx error: ', rel_error(dWx_auto, dWx))\n",
        "print('dWh error: ', rel_error(dWh_auto, dWh))\n",
        "print('db error: ', rel_error(db_auto, db))"
      ],
      "execution_count": 14,
      "outputs": [
        {
          "output_type": "stream",
          "text": [
            "dx error:  9.455508398529566e-15\n",
            "dh0 error:  2.9841679001905593e-16\n",
            "dWx error:  2.5341134542838853e-15\n",
            "dWh error:  3.860601058262072e-15\n",
            "db error:  6.634157791800413e-16\n"
          ],
          "name": "stdout"
        }
      ]
    },
    {
      "cell_type": "markdown",
      "metadata": {
        "colab_type": "text",
        "id": "zgmxOjX0prA4"
      },
      "source": [
        "## RNN Module\n",
        "We can now wrap the vanilla RNN we wrote into an `nn.Module`. `nn.Module` is a base class for all neural network modules, more details regarding its attributes, functions, and methods could be found [here](https://pytorch.org/docs/stable/nn.html?highlight=module#torch.nn.Module).\n",
        "\n",
        "Here we want to set up a module for RNN, where function `__init__` sets up weight and biases, and function `forward` call the `rnn_forward` function from before.\n",
        "\n",
        "**We have written this part for you but you are highly recommended to go through the code as you will write `modules` on your own later.**\n",
        "\n",
        "All the implementation will be with `autograd` and `nn.Module` going forward."
      ]
    },
    {
      "cell_type": "code",
      "metadata": {
        "colab_type": "code",
        "id": "8HWcrAiHn2TI",
        "colab": {}
      },
      "source": [
        "class RNN(nn.Module):\n",
        "  \"\"\"\n",
        "  A single-layer vanilla RNN module.\n",
        "  \n",
        "  Arguments for initialization:\n",
        "  - input_size: Input size, denoted as D before\n",
        "  - hidden_size: Hidden size, denoted as H before\n",
        "  \"\"\"\n",
        "  def __init__(self, input_size, hidden_size, device='cpu',\n",
        "                dtype=torch.float32):\n",
        "    \"\"\"\n",
        "    Initialize a RNN.\n",
        "    Model parameters to initialize:\n",
        "    - Wx: Weight matrix for input-to-hidden connections, of shape (D, H)\n",
        "    - Wh: Weight matrix for hidden-to-hidden connections, of shape (H, H)\n",
        "    - b: Biases, of shape (H,)\n",
        "    \"\"\"\n",
        "    super().__init__()\n",
        "    \n",
        "    # Register parameters\n",
        "    self.Wx = Parameter(torch.randn(input_size, hidden_size,\n",
        "                       device=device, dtype=dtype).div(math.sqrt(input_size)))\n",
        "    self.Wh = Parameter(torch.randn(hidden_size, hidden_size,\n",
        "                       device=device, dtype=dtype).div(math.sqrt(hidden_size)))\n",
        "    self.b = Parameter(torch.zeros(hidden_size,\n",
        "                       device=device, dtype=dtype))\n",
        "    \n",
        "  def forward(self, x, h0):\n",
        "    \"\"\"\n",
        "    Inputs:\n",
        "    - x: Input data for the entire timeseries, of shape (N, T, D)\n",
        "    - h0: Initial hidden state, of shape (N, H)\n",
        "\n",
        "    Outputs:\n",
        "    - hn: The hidden state output\n",
        "    \"\"\"\n",
        "    hn, _ = rnn_forward(x, h0, self.Wx, self.Wh, self.b)\n",
        "    return hn\n",
        "  \n",
        "  def step_forward(self, x, prev_h):\n",
        "    \"\"\"\n",
        "    Inputs:\n",
        "    - x: Input data for one time step, of shape (N, D)\n",
        "    - prev_h: The previous hidden state, of shape (N, H)\n",
        "\n",
        "    Outputs:\n",
        "    - next_h: The next hidden state, of shape (N, H)\n",
        "    \"\"\"\n",
        "    next_h, _ = rnn_step_forward(x, prev_h, self.Wx, self.Wh, self.b)\n",
        "    return next_h"
      ],
      "execution_count": 15,
      "outputs": []
    },
    {
      "cell_type": "markdown",
      "metadata": {
        "colab_type": "text",
        "id": "CIjmnjRd6bhZ"
      },
      "source": [
        "# RNN for image captioning\n",
        "You will implement a few necessary tools and layers in order to build an image captioning model (class `CaptioningRNN`)."
      ]
    },
    {
      "cell_type": "markdown",
      "metadata": {
        "colab_type": "text",
        "id": "IAa1Kvl2P_2k"
      },
      "source": [
        "## Image Feature Extraction\n",
        "Here, we use [MobileNet v2](https://pytorch.org/hub/pytorch_vision_mobilenet_v2/) for image feature extraction. For vanilla RNN and LSTM, we use the pooled CNN feature activation. For Attention LSTM, we use the CNN feature activation map after the last convolution layer."
      ]
    },
    {
      "cell_type": "code",
      "metadata": {
        "colab_type": "code",
        "id": "VLmU_CiURha7",
        "colab": {}
      },
      "source": [
        "# !pip install torchsummary\n",
        "\n",
        "class FeatureExtractor(object):\n",
        "  \"\"\"\n",
        "  Image feature extraction with MobileNet.\n",
        "  \"\"\"\n",
        "  def __init__(self, pooling=False, verbose=False,\n",
        "               device='cpu', dtype=torch.float32):\n",
        "\n",
        "    from torchvision import transforms, models\n",
        "    from torchsummary import summary\n",
        "    self.preprocess = transforms.Compose([\n",
        "        transforms.Normalize(mean=[0.485, 0.456, 0.406], std=[0.229, 0.224, 0.225]),\n",
        "    ])\n",
        "    self.device, self.dtype = device, dtype\n",
        "    self.mobilenet = models.mobilenet_v2(pretrained=True).to(device)\n",
        "    self.mobilenet = nn.Sequential(*list(self.mobilenet.children())[:-1]) # Remove the last classifier\n",
        "    \n",
        "    # average pooling\n",
        "    if pooling:\n",
        "      self.mobilenet.add_module('LastAvgPool', nn.AvgPool2d(4, 4)) # input: N x 1280 x 4 x 4\n",
        "    \n",
        "    self.mobilenet.eval()\n",
        "    if verbose:\n",
        "      summary(self.mobilenet, (3, 112, 112))\n",
        "  \n",
        "  def extract_mobilenet_feature(self, img, verbose=False):\n",
        "    \"\"\"\n",
        "    Inputs:\n",
        "    - img: Batch of resized images, of shape N x 3 x 112 x 112\n",
        "\n",
        "    Outputs:\n",
        "    - feat: Image feature, of shape N x 1280 (pooled) or N x 1280 x 4 x 4\n",
        "    \"\"\"\n",
        "    num_img = img.shape[0]\n",
        "    \n",
        "    img_prepro = []\n",
        "    for i in range(num_img):\n",
        "      img_prepro.append(self.preprocess(img[i].type(self.dtype).div(255.)))\n",
        "    img_prepro = torch.stack(img_prepro).to(self.device)\n",
        "    \n",
        "    with torch.no_grad():\n",
        "      feat = []\n",
        "      process_batch = 500\n",
        "      for b in range(math.ceil(num_img/process_batch)):\n",
        "        feat.append(self.mobilenet(img_prepro[b*process_batch:(b+1)*process_batch]\n",
        "                                ).squeeze(-1).squeeze(-1)) # forward and squeeze\n",
        "      feat = torch.cat(feat)\n",
        "      \n",
        "      # add l2 normalization\n",
        "      F.normalize(feat, p=2, dim=1)\n",
        "    \n",
        "    if verbose:\n",
        "      print('Output feature shape: ', feat.shape)\n",
        "    \n",
        "    return feat"
      ],
      "execution_count": 16,
      "outputs": []
    },
    {
      "cell_type": "markdown",
      "metadata": {
        "colab_type": "text",
        "id": "qHeRMCcjx6v0"
      },
      "source": [
        "Now, let's see what's inside MobileNet v2. Assume we have a 3x112x112 image input. We pass argument `pooling=True` to the model so the CNN activation is spatially-pooled from `1280x4x4` to `1280`."
      ]
    },
    {
      "cell_type": "code",
      "metadata": {
        "colab_type": "code",
        "id": "_pV0Lau_yDwX",
        "colab": {
          "base_uri": "https://localhost:8080/",
          "height": 1000,
          "referenced_widgets": [
            "1fdfae6944c246149dd91213b72b618a",
            "40343c57339942bebfa4722f17f6e42f",
            "8390750bbc8f473c8c35a35c209b37b7",
            "fe25234ea573455ca5c8e8dd6afde12e",
            "b690ab0c7f484a018c7dbebb05070cb7",
            "0614f979d40545dfb1eb1ad1414898d0",
            "d465e9d4aa0d442eab5376b2d8318909",
            "cc5021fffd024c04b675ff7687e82917"
          ]
        },
        "outputId": "ca848a09-5cd4-4e68-ddd0-c2a0be0d78ac"
      },
      "source": [
        "model = FeatureExtractor(pooling=True, verbose=True, device='cuda')"
      ],
      "execution_count": 17,
      "outputs": [
        {
          "output_type": "stream",
          "text": [
            "Downloading: \"https://download.pytorch.org/models/mobilenet_v2-b0353104.pth\" to /root/.cache/torch/hub/checkpoints/mobilenet_v2-b0353104.pth\n"
          ],
          "name": "stderr"
        },
        {
          "output_type": "display_data",
          "data": {
            "application/vnd.jupyter.widget-view+json": {
              "model_id": "1fdfae6944c246149dd91213b72b618a",
              "version_minor": 0,
              "version_major": 2
            },
            "text/plain": [
              "HBox(children=(FloatProgress(value=0.0, max=14212972.0), HTML(value='')))"
            ]
          },
          "metadata": {
            "tags": []
          }
        },
        {
          "output_type": "stream",
          "text": [
            "\n",
            "----------------------------------------------------------------\n",
            "        Layer (type)               Output Shape         Param #\n",
            "================================================================\n",
            "            Conv2d-1           [-1, 32, 56, 56]             864\n",
            "       BatchNorm2d-2           [-1, 32, 56, 56]              64\n",
            "             ReLU6-3           [-1, 32, 56, 56]               0\n",
            "            Conv2d-4           [-1, 32, 56, 56]             288\n",
            "       BatchNorm2d-5           [-1, 32, 56, 56]              64\n",
            "             ReLU6-6           [-1, 32, 56, 56]               0\n",
            "            Conv2d-7           [-1, 16, 56, 56]             512\n",
            "       BatchNorm2d-8           [-1, 16, 56, 56]              32\n",
            "  InvertedResidual-9           [-1, 16, 56, 56]               0\n",
            "           Conv2d-10           [-1, 96, 56, 56]           1,536\n",
            "      BatchNorm2d-11           [-1, 96, 56, 56]             192\n",
            "            ReLU6-12           [-1, 96, 56, 56]               0\n",
            "           Conv2d-13           [-1, 96, 28, 28]             864\n",
            "      BatchNorm2d-14           [-1, 96, 28, 28]             192\n",
            "            ReLU6-15           [-1, 96, 28, 28]               0\n",
            "           Conv2d-16           [-1, 24, 28, 28]           2,304\n",
            "      BatchNorm2d-17           [-1, 24, 28, 28]              48\n",
            " InvertedResidual-18           [-1, 24, 28, 28]               0\n",
            "           Conv2d-19          [-1, 144, 28, 28]           3,456\n",
            "      BatchNorm2d-20          [-1, 144, 28, 28]             288\n",
            "            ReLU6-21          [-1, 144, 28, 28]               0\n",
            "           Conv2d-22          [-1, 144, 28, 28]           1,296\n",
            "      BatchNorm2d-23          [-1, 144, 28, 28]             288\n",
            "            ReLU6-24          [-1, 144, 28, 28]               0\n",
            "           Conv2d-25           [-1, 24, 28, 28]           3,456\n",
            "      BatchNorm2d-26           [-1, 24, 28, 28]              48\n",
            " InvertedResidual-27           [-1, 24, 28, 28]               0\n",
            "           Conv2d-28          [-1, 144, 28, 28]           3,456\n",
            "      BatchNorm2d-29          [-1, 144, 28, 28]             288\n",
            "            ReLU6-30          [-1, 144, 28, 28]               0\n",
            "           Conv2d-31          [-1, 144, 14, 14]           1,296\n",
            "      BatchNorm2d-32          [-1, 144, 14, 14]             288\n",
            "            ReLU6-33          [-1, 144, 14, 14]               0\n",
            "           Conv2d-34           [-1, 32, 14, 14]           4,608\n",
            "      BatchNorm2d-35           [-1, 32, 14, 14]              64\n",
            " InvertedResidual-36           [-1, 32, 14, 14]               0\n",
            "           Conv2d-37          [-1, 192, 14, 14]           6,144\n",
            "      BatchNorm2d-38          [-1, 192, 14, 14]             384\n",
            "            ReLU6-39          [-1, 192, 14, 14]               0\n",
            "           Conv2d-40          [-1, 192, 14, 14]           1,728\n",
            "      BatchNorm2d-41          [-1, 192, 14, 14]             384\n",
            "            ReLU6-42          [-1, 192, 14, 14]               0\n",
            "           Conv2d-43           [-1, 32, 14, 14]           6,144\n",
            "      BatchNorm2d-44           [-1, 32, 14, 14]              64\n",
            " InvertedResidual-45           [-1, 32, 14, 14]               0\n",
            "           Conv2d-46          [-1, 192, 14, 14]           6,144\n",
            "      BatchNorm2d-47          [-1, 192, 14, 14]             384\n",
            "            ReLU6-48          [-1, 192, 14, 14]               0\n",
            "           Conv2d-49          [-1, 192, 14, 14]           1,728\n",
            "      BatchNorm2d-50          [-1, 192, 14, 14]             384\n",
            "            ReLU6-51          [-1, 192, 14, 14]               0\n",
            "           Conv2d-52           [-1, 32, 14, 14]           6,144\n",
            "      BatchNorm2d-53           [-1, 32, 14, 14]              64\n",
            " InvertedResidual-54           [-1, 32, 14, 14]               0\n",
            "           Conv2d-55          [-1, 192, 14, 14]           6,144\n",
            "      BatchNorm2d-56          [-1, 192, 14, 14]             384\n",
            "            ReLU6-57          [-1, 192, 14, 14]               0\n",
            "           Conv2d-58            [-1, 192, 7, 7]           1,728\n",
            "      BatchNorm2d-59            [-1, 192, 7, 7]             384\n",
            "            ReLU6-60            [-1, 192, 7, 7]               0\n",
            "           Conv2d-61             [-1, 64, 7, 7]          12,288\n",
            "      BatchNorm2d-62             [-1, 64, 7, 7]             128\n",
            " InvertedResidual-63             [-1, 64, 7, 7]               0\n",
            "           Conv2d-64            [-1, 384, 7, 7]          24,576\n",
            "      BatchNorm2d-65            [-1, 384, 7, 7]             768\n",
            "            ReLU6-66            [-1, 384, 7, 7]               0\n",
            "           Conv2d-67            [-1, 384, 7, 7]           3,456\n",
            "      BatchNorm2d-68            [-1, 384, 7, 7]             768\n",
            "            ReLU6-69            [-1, 384, 7, 7]               0\n",
            "           Conv2d-70             [-1, 64, 7, 7]          24,576\n",
            "      BatchNorm2d-71             [-1, 64, 7, 7]             128\n",
            " InvertedResidual-72             [-1, 64, 7, 7]               0\n",
            "           Conv2d-73            [-1, 384, 7, 7]          24,576\n",
            "      BatchNorm2d-74            [-1, 384, 7, 7]             768\n",
            "            ReLU6-75            [-1, 384, 7, 7]               0\n",
            "           Conv2d-76            [-1, 384, 7, 7]           3,456\n",
            "      BatchNorm2d-77            [-1, 384, 7, 7]             768\n",
            "            ReLU6-78            [-1, 384, 7, 7]               0\n",
            "           Conv2d-79             [-1, 64, 7, 7]          24,576\n",
            "      BatchNorm2d-80             [-1, 64, 7, 7]             128\n",
            " InvertedResidual-81             [-1, 64, 7, 7]               0\n",
            "           Conv2d-82            [-1, 384, 7, 7]          24,576\n",
            "      BatchNorm2d-83            [-1, 384, 7, 7]             768\n",
            "            ReLU6-84            [-1, 384, 7, 7]               0\n",
            "           Conv2d-85            [-1, 384, 7, 7]           3,456\n",
            "      BatchNorm2d-86            [-1, 384, 7, 7]             768\n",
            "            ReLU6-87            [-1, 384, 7, 7]               0\n",
            "           Conv2d-88             [-1, 64, 7, 7]          24,576\n",
            "      BatchNorm2d-89             [-1, 64, 7, 7]             128\n",
            " InvertedResidual-90             [-1, 64, 7, 7]               0\n",
            "           Conv2d-91            [-1, 384, 7, 7]          24,576\n",
            "      BatchNorm2d-92            [-1, 384, 7, 7]             768\n",
            "            ReLU6-93            [-1, 384, 7, 7]               0\n",
            "           Conv2d-94            [-1, 384, 7, 7]           3,456\n",
            "      BatchNorm2d-95            [-1, 384, 7, 7]             768\n",
            "            ReLU6-96            [-1, 384, 7, 7]               0\n",
            "           Conv2d-97             [-1, 96, 7, 7]          36,864\n",
            "      BatchNorm2d-98             [-1, 96, 7, 7]             192\n",
            " InvertedResidual-99             [-1, 96, 7, 7]               0\n",
            "          Conv2d-100            [-1, 576, 7, 7]          55,296\n",
            "     BatchNorm2d-101            [-1, 576, 7, 7]           1,152\n",
            "           ReLU6-102            [-1, 576, 7, 7]               0\n",
            "          Conv2d-103            [-1, 576, 7, 7]           5,184\n",
            "     BatchNorm2d-104            [-1, 576, 7, 7]           1,152\n",
            "           ReLU6-105            [-1, 576, 7, 7]               0\n",
            "          Conv2d-106             [-1, 96, 7, 7]          55,296\n",
            "     BatchNorm2d-107             [-1, 96, 7, 7]             192\n",
            "InvertedResidual-108             [-1, 96, 7, 7]               0\n",
            "          Conv2d-109            [-1, 576, 7, 7]          55,296\n",
            "     BatchNorm2d-110            [-1, 576, 7, 7]           1,152\n",
            "           ReLU6-111            [-1, 576, 7, 7]               0\n",
            "          Conv2d-112            [-1, 576, 7, 7]           5,184\n",
            "     BatchNorm2d-113            [-1, 576, 7, 7]           1,152\n",
            "           ReLU6-114            [-1, 576, 7, 7]               0\n",
            "          Conv2d-115             [-1, 96, 7, 7]          55,296\n",
            "     BatchNorm2d-116             [-1, 96, 7, 7]             192\n",
            "InvertedResidual-117             [-1, 96, 7, 7]               0\n",
            "          Conv2d-118            [-1, 576, 7, 7]          55,296\n",
            "     BatchNorm2d-119            [-1, 576, 7, 7]           1,152\n",
            "           ReLU6-120            [-1, 576, 7, 7]               0\n",
            "          Conv2d-121            [-1, 576, 4, 4]           5,184\n",
            "     BatchNorm2d-122            [-1, 576, 4, 4]           1,152\n",
            "           ReLU6-123            [-1, 576, 4, 4]               0\n",
            "          Conv2d-124            [-1, 160, 4, 4]          92,160\n",
            "     BatchNorm2d-125            [-1, 160, 4, 4]             320\n",
            "InvertedResidual-126            [-1, 160, 4, 4]               0\n",
            "          Conv2d-127            [-1, 960, 4, 4]         153,600\n",
            "     BatchNorm2d-128            [-1, 960, 4, 4]           1,920\n",
            "           ReLU6-129            [-1, 960, 4, 4]               0\n",
            "          Conv2d-130            [-1, 960, 4, 4]           8,640\n",
            "     BatchNorm2d-131            [-1, 960, 4, 4]           1,920\n",
            "           ReLU6-132            [-1, 960, 4, 4]               0\n",
            "          Conv2d-133            [-1, 160, 4, 4]         153,600\n",
            "     BatchNorm2d-134            [-1, 160, 4, 4]             320\n",
            "InvertedResidual-135            [-1, 160, 4, 4]               0\n",
            "          Conv2d-136            [-1, 960, 4, 4]         153,600\n",
            "     BatchNorm2d-137            [-1, 960, 4, 4]           1,920\n",
            "           ReLU6-138            [-1, 960, 4, 4]               0\n",
            "          Conv2d-139            [-1, 960, 4, 4]           8,640\n",
            "     BatchNorm2d-140            [-1, 960, 4, 4]           1,920\n",
            "           ReLU6-141            [-1, 960, 4, 4]               0\n",
            "          Conv2d-142            [-1, 160, 4, 4]         153,600\n",
            "     BatchNorm2d-143            [-1, 160, 4, 4]             320\n",
            "InvertedResidual-144            [-1, 160, 4, 4]               0\n",
            "          Conv2d-145            [-1, 960, 4, 4]         153,600\n",
            "     BatchNorm2d-146            [-1, 960, 4, 4]           1,920\n",
            "           ReLU6-147            [-1, 960, 4, 4]               0\n",
            "          Conv2d-148            [-1, 960, 4, 4]           8,640\n",
            "     BatchNorm2d-149            [-1, 960, 4, 4]           1,920\n",
            "           ReLU6-150            [-1, 960, 4, 4]               0\n",
            "          Conv2d-151            [-1, 320, 4, 4]         307,200\n",
            "     BatchNorm2d-152            [-1, 320, 4, 4]             640\n",
            "InvertedResidual-153            [-1, 320, 4, 4]               0\n",
            "          Conv2d-154           [-1, 1280, 4, 4]         409,600\n",
            "     BatchNorm2d-155           [-1, 1280, 4, 4]           2,560\n",
            "           ReLU6-156           [-1, 1280, 4, 4]               0\n",
            "       AvgPool2d-157           [-1, 1280, 1, 1]               0\n",
            "================================================================\n",
            "Total params: 2,223,872\n",
            "Trainable params: 2,223,872\n",
            "Non-trainable params: 0\n",
            "----------------------------------------------------------------\n",
            "Input size (MB): 0.14\n",
            "Forward/backward pass size (MB): 38.94\n",
            "Params size (MB): 8.48\n",
            "Estimated Total Size (MB): 47.57\n",
            "----------------------------------------------------------------\n"
          ],
          "name": "stdout"
        }
      ]
    },
    {
      "cell_type": "markdown",
      "metadata": {
        "colab_type": "text",
        "id": "SVAxU-jO6bhR"
      },
      "source": [
        "## Word embedding\n",
        "In deep learning systems, we commonly represent words using vectors. Each word of the vocabulary will be associated with a vector, and these vectors will be learned jointly with the rest of the system.\n",
        "\n",
        "Implement the module `WordEmbedding` to convert words (represented by integers) into vectors."
      ]
    },
    {
      "cell_type": "code",
      "metadata": {
        "colab_type": "code",
        "id": "4lIaeSAxiJlY",
        "colab": {}
      },
      "source": [
        "class WordEmbedding(nn.Module):\n",
        "  \"\"\"\n",
        "  Simplified version of torch.nn.Embedding.\n",
        "\n",
        "  We operate on minibatches of size N where\n",
        "  each sequence has length T. We assume a vocabulary of V words, assigning each\n",
        "  word to a vector of dimension D.\n",
        "\n",
        "  Inputs:\n",
        "  - x: Integer array of shape (N, T) giving indices of words. Each element idx\n",
        "    of x muxt be in the range 0 <= idx < V.\n",
        "\n",
        "  Returns a tuple of:\n",
        "  - out: Array of shape (N, T, D) giving word vectors for all input words.\n",
        "  \"\"\"\n",
        "  def __init__(self, vocab_size, embed_size,\n",
        "               device='cpu', dtype=torch.float32):\n",
        "      super().__init__()\n",
        "      \n",
        "      # Register parameters\n",
        "      self.W_embed = Parameter(torch.randn(vocab_size, embed_size,\n",
        "                         device=device, dtype=dtype).div(math.sqrt(vocab_size)))\n",
        "      \n",
        "  def forward(self, x):\n",
        "\n",
        "      out = None\n",
        "      ##############################################################################\n",
        "      # TODO: Implement the forward pass for word embeddings.                      #\n",
        "      #                                                                            #\n",
        "      # HINT: This can be done in one line using PyTorch's array indexing.           #\n",
        "      ##############################################################################\n",
        "      # Replace \"pass\" statement with your code\n",
        "      out = self.W_embed[x,:]\n",
        "      ##############################################################################\n",
        "      #                               END OF YOUR CODE                             #\n",
        "      ##############################################################################\n",
        "      return out"
      ],
      "execution_count": 18,
      "outputs": []
    },
    {
      "cell_type": "markdown",
      "metadata": {
        "colab_type": "text",
        "id": "7itJoPZOiL7r"
      },
      "source": [
        "Run the following to check your implementation. You should see an error on the order of `1e-7` or less."
      ]
    },
    {
      "cell_type": "code",
      "metadata": {
        "colab_type": "code",
        "id": "BZuz2ieE6bhR",
        "colab": {
          "base_uri": "https://localhost:8080/",
          "height": 35
        },
        "outputId": "960e833c-224f-4f69-e9bc-b68e6d87dcd7"
      },
      "source": [
        "N, T, V, D = 2, 4, 5, 3\n",
        "\n",
        "x = torch.tensor([[0, 3, 1, 2], [2, 1, 0, 3]], **to_long_cuda)\n",
        "W = torch.linspace(0, 1, steps=V*D, **to_double_cuda).reshape(V, D)\n",
        "\n",
        "model_emb = WordEmbedding(V, D, **to_double_cuda)\n",
        "model_emb.W_embed.data.copy_(W)\n",
        "out = model_emb(x)\n",
        "expected_out = torch.tensor([\n",
        " [[ 0.,          0.07142857,  0.14285714],\n",
        "  [ 0.64285714,  0.71428571,  0.78571429],\n",
        "  [ 0.21428571,  0.28571429,  0.35714286],\n",
        "  [ 0.42857143,  0.5,         0.57142857]],\n",
        " [[ 0.42857143,  0.5,         0.57142857],\n",
        "  [ 0.21428571,  0.28571429,  0.35714286],\n",
        "  [ 0.,          0.07142857,  0.14285714],\n",
        "  [ 0.64285714,  0.71428571,  0.78571429]]], **to_double_cuda)\n",
        "\n",
        "print('out error: ', rel_error(expected_out, out))"
      ],
      "execution_count": 19,
      "outputs": [
        {
          "output_type": "stream",
          "text": [
            "out error:  1.9999999989472883e-08\n"
          ],
          "name": "stdout"
        }
      ]
    },
    {
      "cell_type": "markdown",
      "metadata": {
        "colab_type": "text",
        "id": "6u-4Sr--6bhV",
        "tags": []
      },
      "source": [
        "## (Temporal) Affine layer\n",
        "At every timestep we use an affine function to transform the RNN hidden vector at that timestep into scores for each word in the vocabulary. This could be easily done with the [`nn.Linear`](https://pytorch.org/docs/master/nn.html#torch.nn.Linear) module. It can also work as a regular affine layer, like the one you have implemented from previous assignments. Run the following examples to see how it works. You will intensively use `nn.Linear` later."
      ]
    },
    {
      "cell_type": "code",
      "metadata": {
        "colab_type": "code",
        "id": "SA2DgU4X6bhV",
        "tags": [],
        "colab": {}
      },
      "source": [
        "fix_random_seed(0)\n",
        "\n",
        "N, T, D, M = 2, 3, 4, 3\n",
        "\n",
        "w = torch.linspace(-0.2, 0.4, steps=D*M, **to_double_cuda).reshape(D, M).permute(1, 0)\n",
        "b = torch.linspace(-0.4, 0.1, steps=M, **to_double_cuda)\n",
        "\n",
        "temporal_affine = nn.Linear(D, M).to(**to_double_cuda)\n",
        "temporal_affine.weight.data.copy_(w)\n",
        "temporal_affine.bias.data.copy_(b)\n",
        "\n",
        "# For regular affine layer\n",
        "x = torch.linspace(-0.1, 0.3, steps=N*D, **to_double_cuda).reshape(N, D)\n",
        "out = temporal_affine(x)\n",
        "print('affine layer - input shape: {}, output shape: {}'.format(x.shape, out.shape))\n",
        "correct_out = torch.tensor([[-0.35584416, -0.10896104,  0.13792208],\n",
        "                     [-0.31428571, -0.01753247,  0.27922078]], **to_double_cuda)\n",
        "\n",
        "print('dx error: ', rel_error(out, correct_out))\n",
        "\n",
        "\n",
        "# For temporal affine layer\n",
        "x = torch.linspace(-0.1, 0.3, steps=N*T*D, **to_double_cuda).reshape(N, T, D)\n",
        "out = temporal_affine(x)\n",
        "print('\\ntemporal affine layer - input shape: {}, output shape: {}'.format(x.shape, out.shape))\n",
        "correct_out = torch.tensor([[[-0.39920949, -0.16533597,  0.06853755],\n",
        "                             [-0.38656126, -0.13750988,  0.11154150],\n",
        "                             [-0.37391304, -0.10968379,  0.15454545]],\n",
        "                            [[-0.36126482, -0.08185771,  0.19754941],\n",
        "                             [-0.34861660, -0.05403162,  0.24055336],\n",
        "                             [-0.33596838, -0.02620553,  0.28355731]]], **to_double_cuda)\n",
        "\n",
        "print('dx error: ', rel_error(out, correct_out))"
      ],
      "execution_count": null,
      "outputs": []
    },
    {
      "cell_type": "markdown",
      "metadata": {
        "colab_type": "text",
        "id": "K6Py13Ak6bhX",
        "tags": []
      },
      "source": [
        "## Temporal Softmax loss\n",
        "In an RNN language model, at every timestep we produce a score for each word in the vocabulary. We know the ground-truth word at each timestep, so we use a softmax loss function to compute loss and gradient at each timestep. We sum the losses over time and average them over the minibatch.\n",
        "\n",
        "However there is one wrinkle: since we operate over minibatches and different captions may have different lengths, we append `<NULL>` tokens to the end of each caption so they all have the same length. We don't want these `<NULL>` tokens to count toward the loss or gradient, so in addition to scores and ground-truth labels our loss function also accepts a `ignore_index` that tells it which index in caption should be ignored when computing the loss."
      ]
    },
    {
      "cell_type": "code",
      "metadata": {
        "colab_type": "code",
        "id": "JyMWheteYQDh",
        "colab": {}
      },
      "source": [
        "def temporal_softmax_loss(x, y, ignore_index=NULL_index):\n",
        "    \"\"\"\n",
        "    A temporal version of softmax loss for use in RNNs. We assume that we are\n",
        "    making predictions over a vocabulary of size V for each timestep of a\n",
        "    timeseries of length T, over a minibatch of size N. The input x gives scores\n",
        "    for all vocabulary elements at all timesteps, and y gives the indices of the\n",
        "    ground-truth element at each timestep. We use a cross-entropy loss at each\n",
        "    timestep, *summing* the loss over all timesteps and *averaging* across the\n",
        "    minibatch.\n",
        "\n",
        "    As an additional complication, we may want to ignore the model output at some\n",
        "    timesteps, since sequences of different length may have been combined into a\n",
        "    minibatch and padded with NULL tokens. The optional ignore_index argument\n",
        "    tells us which elements in the caption should not contribute to the loss.\n",
        "\n",
        "    Inputs:\n",
        "    - x: Input scores, of shape (N, T, V)\n",
        "    - y: Ground-truth indices, of shape (N, T) where each element is in the range\n",
        "         0 <= y[i, t] < V\n",
        "\n",
        "    Returns a tuple of:\n",
        "    - loss: Scalar giving loss\n",
        "    \"\"\"\n",
        "    loss = None\n",
        "    \n",
        "    ##############################################################################\n",
        "    # TODO: Implement the temporal softmax loss function.                        #\n",
        "    #                                                                            #\n",
        "    # REQUIREMENT: This part MUST be done in one single line of code!            #\n",
        "    #                                                                            #\n",
        "    # HINT: Look up the function torch.functional.cross_entropy, set             #\n",
        "    # ignore_index to the variable ignore_index (i.e., index of NULL) and        #\n",
        "    # set reduction to either 'sum' or 'mean' (avoid using 'none' for now).      #\n",
        "    #                                                                            #\n",
        "    # We use a cross-entropy loss at each timestep, *summing* the loss over      #\n",
        "    # all timesteps and *averaging* across the minibatch.                        #\n",
        "    ##############################################################################\n",
        "    # Replace \"pass\" statement with your code\n",
        "    x_over_t = x.reshape(-1,x.shape[2])\n",
        "    loss = F.cross_entropy(x_over_t,y.reshape(-1,),ignore_index=ignore_index,reduction='sum')/x.shape[0]\n",
        "    ##############################################################################\n",
        "    #                               END OF YOUR CODE                             #\n",
        "    ##############################################################################\n",
        "    \n",
        "    return loss"
      ],
      "execution_count": 40,
      "outputs": []
    },
    {
      "cell_type": "markdown",
      "metadata": {
        "colab_type": "text",
        "id": "NmU62YVdLFR0"
      },
      "source": [
        "### Sanity check"
      ]
    },
    {
      "cell_type": "code",
      "metadata": {
        "colab_type": "code",
        "id": "nlFvgXtD6bhX",
        "tags": [],
        "colab": {
          "base_uri": "https://localhost:8080/",
          "height": 70
        },
        "outputId": "291ce655-6c44-4495-c629-13a0b96b75f9"
      },
      "source": [
        "def check_loss(N, T, V, p):\n",
        "    x = 0.001 * torch.randn(N, T, V, **to_double_cuda)\n",
        "    y = torch.randint(V, size=(N, T), **to_long_cuda)\n",
        "    mask = torch.rand(N, T, **to_double_cuda)\n",
        "    y[mask > p] = 0\n",
        "    print(temporal_softmax_loss(x, y).item())\n",
        "  \n",
        "check_loss(1000, 1, 10, 1.0)   # Should be about 2.00-2.11\n",
        "check_loss(1000, 10, 10, 1.0)  # Should be about 20.6-21.0\n",
        "check_loss(5000, 10, 10, 0.1) # Should be about 2.00-2.11"
      ],
      "execution_count": 41,
      "outputs": [
        {
          "output_type": "stream",
          "text": [
            "2.0677025327065928\n",
            "20.633369189480458\n",
            "2.0870565555905722\n"
          ],
          "name": "stdout"
        }
      ]
    },
    {
      "cell_type": "markdown",
      "metadata": {
        "colab_type": "text",
        "id": "XWrmaSZaUxqX"
      },
      "source": [
        "## Captioning Module\n",
        "Now we are wrapping everything into the captioning module. Implement the `__init__` function for initialization and the `captioning_forward` for the forward pass. For now you only need to implement for the case where `cell_type='rnn'`, indicating vanialla RNNs; you will implement the `LSTM` case and `AttentionLSTM` case later."
      ]
    },
    {
      "cell_type": "code",
      "metadata": {
        "colab_type": "code",
        "id": "1NytlYLekOlJ",
        "colab": {}
      },
      "source": [
        "class CaptioningRNN(nn.Module):\n",
        "    \"\"\"\n",
        "    A CaptioningRNN produces captions from images using a recurrent\n",
        "    neural network.\n",
        "\n",
        "    The RNN receives input vectors of size D, has a vocab size of V, works on\n",
        "    sequences of length T, has an RNN hidden dimension of H, uses word vectors\n",
        "    of dimension W, and operates on minibatches of size N.\n",
        "\n",
        "    Note that we don't use any regularization for the CaptioningRNN.\n",
        "    \n",
        "    You will implement the `__init__` method for model initialization and\n",
        "    the `forward` method first, then come back for the `sample` method later.\n",
        "    \"\"\"\n",
        "    def __init__(self, word_to_idx, input_dim=512, wordvec_dim=128,\n",
        "                 hidden_dim=128, cell_type='rnn', device='cpu', dtype=torch.float32):\n",
        "        \"\"\"\n",
        "        Construct a new CaptioningRNN instance.\n",
        "\n",
        "        Inputs:\n",
        "        - word_to_idx: A dictionary giving the vocabulary. It contains V entries,\n",
        "          and maps each string to a unique integer in the range [0, V).\n",
        "        - input_dim: Dimension D of input image feature vectors.\n",
        "        - wordvec_dim: Dimension W of word vectors.\n",
        "        - hidden_dim: Dimension H for the hidden state of the RNN.\n",
        "        - cell_type: What type of RNN to use; either 'rnn' or 'lstm'.\n",
        "        - dtype: datatype to use; use float32 for training and float64 for\n",
        "          numeric gradient checking.\n",
        "        \"\"\"\n",
        "        super().__init__()\n",
        "        if cell_type not in {'rnn', 'lstm', 'attention'}:\n",
        "            raise ValueError('Invalid cell_type \"%s\"' % cell_type)\n",
        "\n",
        "        self.cell_type = cell_type\n",
        "        self.word_to_idx = word_to_idx\n",
        "        self.idx_to_word = {i: w for w, i in word_to_idx.items()}\n",
        "\n",
        "        vocab_size = len(word_to_idx)\n",
        "\n",
        "        self._null = word_to_idx['<NULL>']\n",
        "        self._start = word_to_idx.get('<START>', None)\n",
        "        self._end = word_to_idx.get('<END>', None)\n",
        "        \n",
        "        ##########################################################################\n",
        "        # TODO: Initialize the image captioning module. Refer to the TODO        #\n",
        "        # in the captioning_forward function on layers you need to create        #\n",
        "        #                                                                        #\n",
        "        # Hint: You can use nn.Linear for both                                   #\n",
        "        # i) output projection (from RNN hidden state to vocab probability) and  #\n",
        "        # ii) feature projection (from CNN pooled feature to h0)                 #\n",
        "        #                                                                        #\n",
        "        # Hint: In FeatureExtractor, set pooling=True to get the pooled CNN      #\n",
        "        #       feature and pooling=False to get the CNN activation map.         #\n",
        "        ##########################################################################\n",
        "        # Replace \"pass\" statement with your code\n",
        "        self.dtype = dtype \n",
        "        self.device = device\n",
        "        \n",
        "        #CNN init \n",
        "        gain = 1.0 \n",
        "        CNN_Affine_W = torch.randn(hidden_dim,input_dim,dtype=dtype,device=device) * math.sqrt(gain/input_dim)\n",
        "        CNN_Affine_b = torch.randn(hidden_dim,dtype=dtype,device=device)\n",
        "        self.Affine_out = nn.Linear(input_dim,hidden_dim).to(dtype).to(device)\n",
        "        self.Affine_out.weight.data.copy_(CNN_Affine_W)\n",
        "        self.Affine_out.bias.data.copy_(CNN_Affine_b)\n",
        "\n",
        "        #Word Embedding layer\n",
        "        self.Embed = WordEmbedding(vocab_size,wordvec_dim,device,type) \n",
        "\n",
        "        #input to hidden state init \n",
        "        H_Affine_W = torch.randn(vocab_size,hidden_dim,dtype=dtype,device=device) * math.sqrt(gain/input_dim)\n",
        "        H_Affine_b = torch.randn(hidden_dim,dtype=dtype,device=device)\n",
        "        self.Affine_out_H = nn.Linear(hidden_dim,vocab_size).to(dtype).to(device)\n",
        "        self.Affine_out_H.weight.data.copy_(H_Affine_W)\n",
        "        self.Affine_out_H.bias.data.copy_(H_Affine_b)\n",
        "\n",
        "        self.cnn = FeatureExtractor(pooling=True,device=devoce,dtype=dtype)\n",
        "\n",
        "        if cell_type == 'rnn' : \n",
        "          self.rnn = RNN(input_size=wordvec_dim,hidden_size=hidden_dim,device=device,dtype=dtype)\n",
        "        #############################################################################\n",
        "        #                              END OF YOUR CODE                             #\n",
        "        #############################################################################\n",
        "    \n",
        "    def forward(self):\n",
        "      raise NotImplementedError\n",
        "    \n",
        "    def sample(self):\n",
        "      raise NotImplementedError"
      ],
      "execution_count": 57,
      "outputs": []
    },
    {
      "cell_type": "markdown",
      "metadata": {
        "colab_type": "text",
        "id": "e2AJE8HVELe-"
      },
      "source": [
        "### Forward part\n",
        "Implement the forward function."
      ]
    },
    {
      "cell_type": "code",
      "metadata": {
        "colab_type": "code",
        "id": "0my9LmoD0bEh",
        "colab": {}
      },
      "source": [
        "    def captioning_forward(self, images, captions):\n",
        "        \"\"\"\n",
        "        Compute training-time loss for the RNN. We input images and\n",
        "        ground-truth captions for those images, and use an RNN (or LSTM) to compute\n",
        "        loss. The backward part will be done by torch.autograd.\n",
        "\n",
        "        Inputs:\n",
        "        - images: Input images, of shape (N, 3, 112, 112)\n",
        "        - captions: Ground-truth captions; an integer array of shape (N, T + 1) where\n",
        "          each element is in the range 0 <= y[i, t] < V\n",
        "\n",
        "        Outputs:\n",
        "        - loss: A scalar loss\n",
        "        \"\"\"\n",
        "        # Cut captions into two pieces: captions_in has everything but the last word\n",
        "        # and will be input to the RNN; captions_out has everything but the first\n",
        "        # word and this is what we will expect the RNN to generate. These are offset\n",
        "        # by one relative to each other because the RNN should produce word (t+1)\n",
        "        # after receiving word t. The first element of captions_in will be the START\n",
        "        # token, and the first element of captions_out will be the first word.\n",
        "        captions_in = captions[:, :-1]\n",
        "        captions_out = captions[:, 1:]\n",
        "\n",
        "        loss = 0.0\n",
        "        ############################################################################\n",
        "        # TODO: Implement the forward pass for the CaptioningRNN.                  #\n",
        "        # In the forward pass you will need to do the following:                   #\n",
        "        # (1) Use an affine transformation to project the image feature to         #\n",
        "        #     the initial hidden state $h0$ (for RNN/LSTM, of shape (N, H)) or     #\n",
        "        #     the projected CNN activation input $A$ (for Attention LSTM,          #\n",
        "        #     of shape (N, H, 4, 4).                                               #\n",
        "        # (2) Use a word embedding layer to transform the words in captions_in     #\n",
        "        #     from indices to vectors, giving an array of shape (N, T, W).         #\n",
        "        # (3) Use either a vanilla RNN or LSTM (depending on self.cell_type) to    #\n",
        "        #     process the sequence of input word vectors and produce hidden state  #\n",
        "        #     vectors for all timesteps, producing an array of shape (N, T, H).    #\n",
        "        # (4) Use a (temporal) affine transformation to compute scores over the    #\n",
        "        #     vocabulary at every timestep using the hidden states, giving an      #\n",
        "        #     array of shape (N, T, V).                                            #\n",
        "        # (5) Use (temporal) softmax to compute loss using captions_out, ignoring  #\n",
        "        #     the points where the output word is <NULL>.                          #\n",
        "        #                                                                          #\n",
        "        # Do not worry about regularizing the weights or their gradients!          #\n",
        "        ############################################################################\n",
        "        # Replace \"pass\" statement with your code\n",
        "        img_features = self.cnn.extract_mobilenet_feature(images)\n",
        "\n",
        "        inputs = self.Embed.forward(captions_in)\n",
        "\n",
        "        if self.cell_type == 'rnn' : \n",
        "          h0 = self.Affine_out(features)\n",
        "          H = self.rnn.forward(inputs,h0) \n",
        "\n",
        "        out_aff = self.Affine_out_H(H)\n",
        "        loss = temporal_softmax_loss(out_aff,captions_out)\n",
        "        ############################################################################\n",
        "        #                             END OF YOUR CODE                             #\n",
        "        ############################################################################\n",
        "\n",
        "        return loss\n",
        "\n",
        "    CaptioningRNN.forward = captioning_forward"
      ],
      "execution_count": 58,
      "outputs": []
    },
    {
      "cell_type": "markdown",
      "metadata": {
        "colab_type": "text",
        "id": "v0M8Dq5NEOxN"
      },
      "source": [
        "### Inference part\n",
        "We will come back to this part later."
      ]
    },
    {
      "cell_type": "code",
      "metadata": {
        "colab_type": "code",
        "id": "zAZOTp1hz9db",
        "colab": {}
      },
      "source": [
        "    def sample_caption(self, images, max_length=15):\n",
        "        \"\"\"\n",
        "        Run a test-time forward pass for the model, sampling captions for input\n",
        "        feature vectors.\n",
        "\n",
        "        At each timestep, we embed the current word, pass it and the previous hidden\n",
        "        state to the RNN to get the next hidden state, use the hidden state to get\n",
        "        scores for all vocab words, and choose the word with the highest score as\n",
        "        the next word. The initial hidden state is computed by applying an affine\n",
        "        transform to the image features, and the initial word is the <START>\n",
        "        token.\n",
        "\n",
        "        For LSTMs you will also have to keep track of the cell state; in that case\n",
        "        the initial cell state should be zero.\n",
        "\n",
        "        Inputs:\n",
        "        - images: Input images, of shape (N, 3, 112, 112)\n",
        "        - max_length: Maximum length T of generated captions\n",
        "\n",
        "        Returns:\n",
        "        - captions: Array of shape (N, max_length) giving sampled captions,\n",
        "          where each element is an integer in the range [0, V). The first element\n",
        "          of captions should be the first sampled word, not the <START> token.\n",
        "        \"\"\"\n",
        "        N = images.shape[0]\n",
        "        captions = self._null * images.new(N, max_length).fill_(1).long()\n",
        "\n",
        "        if self.cell_type == 'attention':\n",
        "          attn_weights_all = images.new(N, max_length, 4, 4).fill_(0).float()\n",
        "\n",
        "        ###########################################################################\n",
        "        # TODO: Implement test-time sampling for the model. You will need to      #\n",
        "        # initialize the hidden state of the RNN by applying the learned affine   #\n",
        "        # transform to the image features. The first word that you feed to  #\n",
        "        # the RNN should be the <START> token; its value is stored in the         #\n",
        "        # variable self._start. At each timestep you will need to do to:          #\n",
        "        # (1) Embed the previous word using the learned word embeddings           #\n",
        "        # (2) Make an RNN step using the previous hidden state and the embedded   #\n",
        "        #     current word to get the next hidden state.                          #\n",
        "        # (3) Apply the learned affine transformation to the next hidden state to #\n",
        "        #     get scores for all words in the vocabulary                          #\n",
        "        # (4) Select the word with the highest score as the next word, writing it #\n",
        "        #     (the word index) to the appropriate slot in the captions variable   #\n",
        "        #                                                                         #\n",
        "        # For simplicity, you do not need to stop generating after an <END> token #\n",
        "        # is sampled, but you can if you want to.                                 #\n",
        "        #                                                                         #\n",
        "        # HINT: You will not be able to use the rnn_forward or lstm_forward       #\n",
        "        # functions; you'll need to call the `step_forward` from the              #\n",
        "        # RNN/LSTM/AttentionLSTM module in a loop.                                #\n",
        "        #                                                                         #\n",
        "        # NOTE: we are still working over minibatches in this function. Also if   #\n",
        "        # you are using an LSTM, initialize the first cell state to zeros.        #\n",
        "        # For AttentionLSTM, first project the 1280x4x4 CNN feature activation to #\n",
        "        # $A$ of shape Hx4x4. The LSTM initial hidden state and cell state        #\n",
        "        # would both be A.mean(dim=(2, 3)).                                       #\n",
        "        ###########################################################################\n",
        "        # Replace \"pass\" statement with your code\n",
        "        pass\n",
        "        ############################################################################\n",
        "        #                             END OF YOUR CODE                             #\n",
        "        ############################################################################\n",
        "        if self.cell_type == 'attention':\n",
        "          return captions, attn_weights_all.cpu()\n",
        "        else:\n",
        "          return captions\n",
        "\n",
        "    CaptioningRNN.sample = sample_caption"
      ],
      "execution_count": 59,
      "outputs": []
    },
    {
      "cell_type": "markdown",
      "metadata": {
        "colab_type": "text",
        "id": "CE3Kg3RHLM4o"
      },
      "source": [
        "### Sanity check\n",
        "Run the following to check your forward pass using a small test case; you should see difference on the order of 1e-7 or less."
      ]
    },
    {
      "cell_type": "code",
      "metadata": {
        "colab_type": "code",
        "id": "d8a71FL_6bhZ",
        "colab": {
          "base_uri": "https://localhost:8080/",
          "height": 455
        },
        "outputId": "a660887d-302f-4081-f982-01ecbbee408f"
      },
      "source": [
        "fix_random_seed(0)\n",
        "\n",
        "N, D, W, H = 10, 1280, 30, 40\n",
        "D_img = 112\n",
        "word_to_idx = {'<NULL>': 0, 'cat': 2, 'dog': 3}\n",
        "V = len(word_to_idx)\n",
        "T = 13\n",
        "\n",
        "model = CaptioningRNN(word_to_idx,\n",
        "          input_dim=D,\n",
        "          wordvec_dim=W,\n",
        "          hidden_dim=H,\n",
        "          cell_type='rnn',\n",
        "          **to_float_cuda) # use float here to be consistent with MobileNet v2\n",
        "\n",
        "\n",
        "for k,v in model.named_parameters():\n",
        "  # print(k, v.shape) # uncomment this to see the weight shape\n",
        "  v.data.copy_(torch.linspace(-1.4, 1.3, steps=v.numel()).reshape(*v.shape))\n",
        "\n",
        "images = torch.linspace(-3., 3., steps=(N * 3 * D_img * D_img),\n",
        "                       **to_float_cuda).reshape(N, 3, D_img, D_img)\n",
        "captions = (torch.arange(N * T, **to_long_cuda) % V).reshape(N, T)\n",
        "\n",
        "loss = model(images, captions).item()\n",
        "expected_loss = 150.6090393066\n",
        "\n",
        "print('loss: ', loss)\n",
        "print('expected loss: ', expected_loss)\n",
        "print('difference: ', rel_error(torch.tensor(loss), torch.tensor(expected_loss)))"
      ],
      "execution_count": 60,
      "outputs": [
        {
          "output_type": "error",
          "ename": "TypeError",
          "evalue": "ignored",
          "traceback": [
            "\u001b[0;31m---------------------------------------------------------------------------\u001b[0m",
            "\u001b[0;31mTypeError\u001b[0m                                 Traceback (most recent call last)",
            "\u001b[0;32m<ipython-input-60-c0703abc5f1d>\u001b[0m in \u001b[0;36m<module>\u001b[0;34m()\u001b[0m\n\u001b[1;32m     12\u001b[0m           \u001b[0mhidden_dim\u001b[0m\u001b[0;34m=\u001b[0m\u001b[0mH\u001b[0m\u001b[0;34m,\u001b[0m\u001b[0;34m\u001b[0m\u001b[0;34m\u001b[0m\u001b[0m\n\u001b[1;32m     13\u001b[0m           \u001b[0mcell_type\u001b[0m\u001b[0;34m=\u001b[0m\u001b[0;34m'rnn'\u001b[0m\u001b[0;34m,\u001b[0m\u001b[0;34m\u001b[0m\u001b[0;34m\u001b[0m\u001b[0m\n\u001b[0;32m---> 14\u001b[0;31m           **to_float_cuda) # use float here to be consistent with MobileNet v2\n\u001b[0m\u001b[1;32m     15\u001b[0m \u001b[0;34m\u001b[0m\u001b[0m\n\u001b[1;32m     16\u001b[0m \u001b[0;34m\u001b[0m\u001b[0m\n",
            "\u001b[0;32m<ipython-input-57-ca7f5cb68384>\u001b[0m in \u001b[0;36m__init__\u001b[0;34m(self, word_to_idx, input_dim, wordvec_dim, hidden_dim, cell_type, device, dtype)\u001b[0m\n\u001b[1;32m     66\u001b[0m \u001b[0;34m\u001b[0m\u001b[0m\n\u001b[1;32m     67\u001b[0m         \u001b[0;31m#Word Embedding layer\u001b[0m\u001b[0;34m\u001b[0m\u001b[0;34m\u001b[0m\u001b[0;34m\u001b[0m\u001b[0m\n\u001b[0;32m---> 68\u001b[0;31m         \u001b[0mself\u001b[0m\u001b[0;34m.\u001b[0m\u001b[0mEmbed\u001b[0m \u001b[0;34m=\u001b[0m \u001b[0mWordEmbedding\u001b[0m\u001b[0;34m(\u001b[0m\u001b[0mvocab_size\u001b[0m\u001b[0;34m,\u001b[0m\u001b[0mwordvec_dim\u001b[0m\u001b[0;34m,\u001b[0m\u001b[0mdevice\u001b[0m\u001b[0;34m,\u001b[0m\u001b[0mtype\u001b[0m\u001b[0;34m)\u001b[0m\u001b[0;34m\u001b[0m\u001b[0;34m\u001b[0m\u001b[0m\n\u001b[0m\u001b[1;32m     69\u001b[0m \u001b[0;34m\u001b[0m\u001b[0m\n\u001b[1;32m     70\u001b[0m         \u001b[0;31m#input to hidden state init\u001b[0m\u001b[0;34m\u001b[0m\u001b[0;34m\u001b[0m\u001b[0;34m\u001b[0m\u001b[0m\n",
            "\u001b[0;32m<ipython-input-18-22d99411e68f>\u001b[0m in \u001b[0;36m__init__\u001b[0;34m(self, vocab_size, embed_size, device, dtype)\u001b[0m\n\u001b[1;32m     20\u001b[0m       \u001b[0;31m# Register parameters\u001b[0m\u001b[0;34m\u001b[0m\u001b[0;34m\u001b[0m\u001b[0;34m\u001b[0m\u001b[0m\n\u001b[1;32m     21\u001b[0m       self.W_embed = Parameter(torch.randn(vocab_size, embed_size,\n\u001b[0;32m---> 22\u001b[0;31m                          device=device, dtype=dtype).div(math.sqrt(vocab_size)))\n\u001b[0m\u001b[1;32m     23\u001b[0m \u001b[0;34m\u001b[0m\u001b[0m\n\u001b[1;32m     24\u001b[0m   \u001b[0;32mdef\u001b[0m \u001b[0mforward\u001b[0m\u001b[0;34m(\u001b[0m\u001b[0mself\u001b[0m\u001b[0;34m,\u001b[0m \u001b[0mx\u001b[0m\u001b[0;34m)\u001b[0m\u001b[0;34m:\u001b[0m\u001b[0;34m\u001b[0m\u001b[0;34m\u001b[0m\u001b[0m\n",
            "\u001b[0;31mTypeError\u001b[0m: randn() received an invalid combination of arguments - got (int, int, dtype=type, device=str), but expected one of:\n * (tuple of ints size, *, tuple of names names, torch.dtype dtype, torch.layout layout, torch.device device, bool pin_memory, bool requires_grad)\n * (tuple of ints size, *, torch.Generator generator, tuple of names names, torch.dtype dtype, torch.layout layout, torch.device device, bool pin_memory, bool requires_grad)\n * (tuple of ints size, *, torch.Generator generator, Tensor out, torch.dtype dtype, torch.layout layout, torch.device device, bool pin_memory, bool requires_grad)\n * (tuple of ints size, *, Tensor out, torch.dtype dtype, torch.layout layout, torch.device device, bool pin_memory, bool requires_grad)\n"
          ]
        }
      ]
    },
    {
      "cell_type": "markdown",
      "metadata": {
        "colab_type": "text",
        "id": "7YAOcQ4h6bhc"
      },
      "source": [
        "## Image Captioning solver\n",
        "Different from the `Solver` class that we used to train image classification models on the previous assignment, on this assignment we use the `torch.optim` package to train image captioning models.\n",
        "\n",
        "We have written this part for you and you need to train the model and generate plots on the training loss."
      ]
    },
    {
      "cell_type": "code",
      "metadata": {
        "colab_type": "code",
        "id": "bRC0lNgOxheT",
        "colab": {}
      },
      "source": [
        "def CaptioningTrain(rnn_model, image_data, caption_data, lr_decay=1, **kwargs):\n",
        "  \"\"\"\n",
        "  Run optimization to train the model.\n",
        "  \"\"\"\n",
        "  # optimizer setup\n",
        "  from torch import optim\n",
        "  optimizer = optim.Adam(\n",
        "    filter(lambda p: p.requires_grad, rnn_model.parameters()),\n",
        "    learning_rate) # leave betas and eps by default\n",
        "  lr_scheduler = optim.lr_scheduler.LambdaLR(optimizer,\n",
        "                                             lambda epoch: lr_decay ** epoch)\n",
        "\n",
        "  # sample minibatch data\n",
        "  iter_per_epoch = math.ceil(image_data.shape[0] // batch_size)\n",
        "  loss_history = []\n",
        "  rnn_model.train()\n",
        "  for i in range(num_epochs):\n",
        "    start_t = time.time()\n",
        "    for j in range(iter_per_epoch):\n",
        "      images, captions = image_data[j*batch_size:(j+1)*batch_size], \\\n",
        "                           caption_data[j*batch_size:(j+1)*batch_size]\n",
        "\n",
        "      loss = rnn_model(images, captions)\n",
        "      optimizer.zero_grad()\n",
        "      loss.backward()\n",
        "      loss_history.append(loss.item())\n",
        "      optimizer.step()\n",
        "    end_t = time.time()\n",
        "    print('(Epoch {} / {}) loss: {:.4f} time per epoch: {:.1f}s'.format(\n",
        "        i, num_epochs, loss.item(), end_t-start_t))\n",
        "\n",
        "    lr_scheduler.step()\n",
        "\n",
        "  # plot the training losses\n",
        "  plt.plot(loss_history)\n",
        "  plt.xlabel('Iteration')\n",
        "  plt.ylabel('Loss')\n",
        "  plt.title('Training loss history')\n",
        "  plt.show()"
      ],
      "execution_count": null,
      "outputs": []
    },
    {
      "cell_type": "markdown",
      "metadata": {
        "colab_type": "text",
        "id": "eUc5c217pFYE"
      },
      "source": [
        "## Overfit small data\n",
        "Once you have familiarized yourself with the `optim` API used above, run the following to make sure your model overfits a small sample of 50 training examples. You should see a final loss of less than 1.6."
      ]
    },
    {
      "cell_type": "code",
      "metadata": {
        "colab_type": "code",
        "id": "yzhsGRzk6bhd",
        "colab": {}
      },
      "source": [
        "fix_random_seed(0)\n",
        "\n",
        "# data input\n",
        "small_num_train = 50\n",
        "sample_idx = torch.linspace(0, num_train-1, steps=small_num_train, **to_float_cuda).long()\n",
        "small_image_data = data_dict['train_images'][sample_idx].to('cuda')\n",
        "small_caption_data = data_dict['train_captions'][sample_idx].to('cuda')\n",
        "\n",
        "# optimization arguments\n",
        "num_epochs = 80\n",
        "batch_size = 50\n",
        "  \n",
        "# create the image captioning model\n",
        "model = CaptioningRNN(\n",
        "          cell_type='rnn',\n",
        "          word_to_idx=data_dict['vocab']['token_to_idx'],\n",
        "          input_dim=1280, # hard-coded, do not modify\n",
        "          hidden_dim=512,\n",
        "          wordvec_dim=256,\n",
        "          **to_float_cuda)\n",
        "\n",
        "for learning_rate in [1e-3]:\n",
        "  print('learning rate is: ', learning_rate)\n",
        "  CaptioningTrain(model, small_image_data, small_caption_data,\n",
        "                num_epochs=num_epochs, batch_size=batch_size,\n",
        "                learning_rate=learning_rate)"
      ],
      "execution_count": null,
      "outputs": []
    },
    {
      "cell_type": "markdown",
      "metadata": {
        "colab_type": "text",
        "id": "UiHsRysE6bhe"
      },
      "source": [
        "## Caption sampling\n",
        "Unlike classification models, image captioning models behave very differently at training time and at test time. At training time, we have access to the ground-truth caption, so we feed ground-truth words as input to the RNN at each timestep. At test time, we sample from the distribution over the vocabulary at each timestep, and feed the sample as input to the RNN at the next timestep.\n",
        "\n",
        "Implement the [`sample`](#scrollTo=v0M8Dq5NEOxN) method in captioning module `CaptioningRNN` for test-time sampling. After doing so, run the following to train a captioning model and sample from the model on both training and validation data."
      ]
    },
    {
      "cell_type": "markdown",
      "metadata": {
        "colab_type": "text",
        "id": "BN_sn1YcFZz4"
      },
      "source": [
        "### Train the net\n",
        "After you are done implementing the [`sample`](#scrollTo=v0M8Dq5NEOxN) method, perform the training on the entire training set. You should see a final loss less than `2.0`."
      ]
    },
    {
      "cell_type": "code",
      "metadata": {
        "colab_type": "code",
        "id": "dXHnPuM_FU7k",
        "colab": {}
      },
      "source": [
        "fix_random_seed(0)\n",
        "\n",
        "# data input\n",
        "small_num_train = num_train\n",
        "sample_idx = torch.randint(num_train, size=(small_num_train,), **to_long_cuda)\n",
        "small_image_data = data_dict['train_images'][sample_idx].to('cuda')\n",
        "small_caption_data = data_dict['train_captions'][sample_idx].to('cuda')\n",
        "\n",
        "# optimization arguments\n",
        "num_epochs = 60\n",
        "batch_size = 250\n",
        "\n",
        "# create the image captioning model\n",
        "rnn_model = CaptioningRNN(\n",
        "          cell_type='rnn',\n",
        "          word_to_idx=data_dict['vocab']['token_to_idx'],\n",
        "          input_dim=1280, # hard-coded, do not modify\n",
        "          hidden_dim=512,\n",
        "          wordvec_dim=256,\n",
        "          **to_float_cuda)\n",
        "\n",
        "for learning_rate in [1e-3]:\n",
        "  print('learning rate is: ', learning_rate)\n",
        "  CaptioningTrain(rnn_model, small_image_data, small_caption_data,\n",
        "                num_epochs=num_epochs, batch_size=batch_size,\n",
        "                learning_rate=learning_rate)"
      ],
      "execution_count": null,
      "outputs": []
    },
    {
      "cell_type": "markdown",
      "metadata": {
        "colab_type": "text",
        "id": "97xga3Q5GO8B"
      },
      "source": [
        "### Test-time sampling\n",
        "The samples on training data should be very good; the samples on validation data will probably make less sense."
      ]
    },
    {
      "cell_type": "code",
      "metadata": {
        "colab_type": "code",
        "id": "Rvt326nX6bhf",
        "colab": {}
      },
      "source": [
        "# Sample a minibatch and show the reshaped 112x112 images,\n",
        "# GT captions, and generated captions by your model.\n",
        "batch_size = 3\n",
        "\n",
        "for split in ['train', 'val']:\n",
        "  sample_idx = torch.randint(0, num_train if split=='train' else num_val, (batch_size,))\n",
        "  sample_images = data_dict[split+'_images'][sample_idx]\n",
        "  sample_captions = data_dict[split+'_captions'][sample_idx]\n",
        "\n",
        "  gt_captions = decode_captions(sample_captions, data_dict['vocab']['idx_to_token'])\n",
        "  rnn_model.eval()\n",
        "  generated_captions = rnn_model.sample(sample_images)\n",
        "  generated_captions = decode_captions(generated_captions, data_dict['vocab']['idx_to_token'])\n",
        "\n",
        "  for i in range(batch_size):\n",
        "    plt.imshow(sample_images[i].permute(1, 2, 0))\n",
        "    plt.axis('off')\n",
        "    plt.title('%s\\nRNN Generated:%s\\nGT:%s' % (split, generated_captions[i], gt_captions[i]))\n",
        "    plt.show()"
      ],
      "execution_count": null,
      "outputs": []
    },
    {
      "cell_type": "markdown",
      "metadata": {
        "colab_type": "text",
        "id": "vVeGWWQTvMMF",
        "tags": [
          "pdf-title"
        ]
      },
      "source": [
        "# Image Captioning with LSTMs\n",
        "In the previous exercise you implemented a vanilla RNN and applied it to image captioning. Next, we will implement the LSTM update rule and use it for image captioning."
      ]
    },
    {
      "cell_type": "markdown",
      "metadata": {
        "colab_type": "text",
        "id": "_8Zd6FGPvMMa"
      },
      "source": [
        "# LSTM\n",
        "If you read recent papers, you'll see that many people use a variant on the vanilla RNN called Long-Short Term Memory (LSTM) RNNs. Vanilla RNNs can be tough to train on long sequences due to vanishing and exploding gradients caused by repeated matrix multiplication. LSTMs solve this problem by replacing the simple update rule of the vanilla RNN with a gating mechanism as follows.\n",
        "\n",
        "Similar to the vanilla RNN, at each timestep we receive an input $x_t\\in\\mathbb{R}^D$ and the previous hidden state $h_{t-1}\\in\\mathbb{R}^H$; the LSTM also maintains an $H$-dimensional *cell state*, so we also receive the previous cell state $c_{t-1}\\in\\mathbb{R}^H$. The learnable parameters of the LSTM are an *input-to-hidden* matrix $W_x\\in\\mathbb{R}^{4H\\times D}$, a *hidden-to-hidden* matrix $W_h\\in\\mathbb{R}^{4H\\times H}$ and a *bias vector* $b\\in\\mathbb{R}^{4H}$.\n",
        "\n",
        "At each timestep we first compute an *activation vector* $a\\in\\mathbb{R}^{4H}$ as $a=W_xx_t + W_hh_{t-1}+b$. We then divide this into four vectors $a_i,a_f,a_o,a_g\\in\\mathbb{R}^H$ where $a_i$ consists of the first $H$ elements of $a$, $a_f$ is the next $H$ elements of $a$, etc. We then compute the *input gate* $g\\in\\mathbb{R}^H$, *forget gate* $f\\in\\mathbb{R}^H$, *output gate* $o\\in\\mathbb{R}^H$ and *block input* $g\\in\\mathbb{R}^H$ as\n",
        "\n",
        "$$\n",
        "\\begin{align*}\n",
        "i = \\sigma(a_i) \\hspace{2pc}\n",
        "f = \\sigma(a_f) \\hspace{2pc}\n",
        "o = \\sigma(a_o) \\hspace{2pc}\n",
        "g = \\tanh(a_g)\n",
        "\\end{align*}\n",
        "$$\n",
        "\n",
        "where $\\sigma$ is the sigmoid function and $\\tanh$ is the hyperbolic tangent, both applied elementwise.\n",
        "\n",
        "Finally we compute the next cell state $c_t$ and next hidden state $h_t$ as\n",
        "\n",
        "$$\n",
        "c_{t} = f\\odot c_{t-1} + i\\odot g \\hspace{4pc}\n",
        "h_t = o\\odot\\tanh(c_t)\n",
        "$$\n",
        "\n",
        "where $\\odot$ is the elementwise product of vectors.\n",
        "\n",
        "In the rest of the notebook we will implement the LSTM update rule and apply it to the image captioning task. \n",
        "\n",
        "In the code, we assume that data is stored in batches so that $X_t \\in \\mathbb{R}^{N\\times D}$, and will work with *transposed* versions of the parameters: $W_x \\in \\mathbb{R}^{D \\times 4H}$, $W_h \\in \\mathbb{R}^{H\\times 4H}$ so that activations $A \\in \\mathbb{R}^{N\\times 4H}$ can be computed efficiently as $A = X_t W_x + H_{t-1} W_h$"
      ]
    },
    {
      "cell_type": "markdown",
      "metadata": {
        "colab_type": "text",
        "id": "t4DNkZYevMMc"
      },
      "source": [
        "## LSTM: step forward\n",
        "Implement the forward pass for a single timestep of an LSTM in the `lstm_step_forward` function. This should be similar to the `rnn_step_forward` function that you implemented above, but using the LSTM update rule instead.\n",
        "\n",
        "Don't worry about the backward part! `autograd` will handle it."
      ]
    },
    {
      "cell_type": "code",
      "metadata": {
        "colab_type": "code",
        "id": "7NvdQad46KOQ",
        "colab": {}
      },
      "source": [
        "def lstm_step_forward(x, prev_h, prev_c, Wx, Wh, b, attn=None, Wattn=None):\n",
        "    \"\"\"\n",
        "    Forward pass for a single timestep of an LSTM.\n",
        "\n",
        "    The input data has dimension D, the hidden state has dimension H, and we use\n",
        "    a minibatch size of N.\n",
        "\n",
        "    Inputs:\n",
        "    - x: Input data, of shape (N, D)\n",
        "    - prev_h: Previous hidden state, of shape (N, H)\n",
        "    - prev_c: previous cell state, of shape (N, H)\n",
        "    - Wx: Input-to-hidden weights, of shape (D, 4H)\n",
        "    - Wh: Hidden-to-hidden weights, of shape (H, 4H)\n",
        "    - b: Biases, of shape (4H,)\n",
        "    - attn and Wattn are for Attention LSTM only, indicate the attention input and\n",
        "      embedding weights for the attention input\n",
        "\n",
        "    Returns a tuple of:\n",
        "    - next_h: Next hidden state, of shape (N, H)\n",
        "    - next_c: Next cell state, of shape (N, H)\n",
        "    \"\"\"\n",
        "    next_h, next_c = None, None\n",
        "    #############################################################################\n",
        "    # TODO: Implement the forward pass for a single timestep of an LSTM.        #\n",
        "    # You may want to use torch.sigmoid() for the sigmoid function.             #\n",
        "    #############################################################################\n",
        "    # Replace \"pass\" statement with your code\n",
        "    pass\n",
        "    ##############################################################################\n",
        "    #                               END OF YOUR CODE                             #\n",
        "    ##############################################################################\n",
        "\n",
        "    return next_h, next_c"
      ],
      "execution_count": null,
      "outputs": []
    },
    {
      "cell_type": "markdown",
      "metadata": {
        "colab_type": "text",
        "id": "YyzSMwYt6NsZ"
      },
      "source": [
        "Once you are done, run the following to perform a simple test of your implementation. You should see errors on the order of `1e-7` or less."
      ]
    },
    {
      "cell_type": "code",
      "metadata": {
        "colab_type": "code",
        "id": "awLF_A5ZvMMd",
        "colab": {}
      },
      "source": [
        "N, D, H = 3, 4, 5\n",
        "x = torch.linspace(-0.4, 1.2, steps=N*D, **to_double_cuda).reshape(N, D)\n",
        "prev_h = torch.linspace(-0.3, 0.7, steps=N*H, **to_double_cuda).reshape(N, H)\n",
        "prev_c = torch.linspace(-0.4, 0.9, steps=N*H, **to_double_cuda).reshape(N, H)\n",
        "Wx = torch.linspace(-2.1, 1.3, steps=4*D*H, **to_double_cuda).reshape(D, 4 * H)\n",
        "Wh = torch.linspace(-0.7, 2.2, steps=4*H*H, **to_double_cuda).reshape(H, 4 * H)\n",
        "b = torch.linspace(0.3, 0.7, steps=4*H, **to_double_cuda)\n",
        "\n",
        "next_h, next_c = lstm_step_forward(x, prev_h, prev_c, Wx, Wh, b)\n",
        "\n",
        "expected_next_h = torch.tensor([\n",
        "    [ 0.24635157,  0.28610883,  0.32240467,  0.35525807,  0.38474904],\n",
        "    [ 0.49223563,  0.55611431,  0.61507696,  0.66844003,  0.7159181 ],\n",
        "    [ 0.56735664,  0.66310127,  0.74419266,  0.80889665,  0.858299  ]], **to_double_cuda)\n",
        "expected_next_c = torch.tensor([\n",
        "    [ 0.32986176,  0.39145139,  0.451556,    0.51014116,  0.56717407],\n",
        "    [ 0.66382255,  0.76674007,  0.87195994,  0.97902709,  1.08751345],\n",
        "    [ 0.74192008,  0.90592151,  1.07717006,  1.25120233,  1.42395676]], **to_double_cuda)\n",
        "\n",
        "print('next_h error: ', rel_error(expected_next_h, next_h))\n",
        "print('next_c error: ', rel_error(expected_next_c, next_c))"
      ],
      "execution_count": null,
      "outputs": []
    },
    {
      "cell_type": "markdown",
      "metadata": {
        "colab_type": "text",
        "id": "ErgRQwwzvMMt"
      },
      "source": [
        "## LSTM: forward\n",
        "Implement the `lstm_forward` function to run an LSTM forward on an entire timeseries of data.\n",
        "\n",
        "Again, don't worry about the backward part! `autograd` will handle it."
      ]
    },
    {
      "cell_type": "code",
      "metadata": {
        "colab_type": "code",
        "id": "mAKcjWZI6T5M",
        "colab": {}
      },
      "source": [
        "def lstm_forward(x, h0, Wx, Wh, b):\n",
        "    \"\"\"\n",
        "    Forward pass for an LSTM over an entire sequence of data. We assume an input\n",
        "    sequence composed of T vectors, each of dimension D. The LSTM uses a hidden\n",
        "    size of H, and we work over a minibatch containing N sequences. After running\n",
        "    the LSTM forward, we return the hidden states for all timesteps.\n",
        "\n",
        "    Note that the initial cell state is passed as input, but the initial cell\n",
        "    state is set to zero. Also note that the cell state is not returned; it is\n",
        "    an internal variable to the LSTM and is not accessed from outside.\n",
        "\n",
        "    Inputs:\n",
        "    - x: Input data, of shape (N, T, D)\n",
        "    - h0: Initial hidden state, of shape (N, H)\n",
        "    - Wx: Weights for input-to-hidden connections, of shape (D, 4H)\n",
        "    - Wh: Weights for hidden-to-hidden connections, of shape (H, 4H)\n",
        "    - b: Biases, of shape (4H,)\n",
        "\n",
        "    Returns a tuple of:\n",
        "    - h: Hidden states for all timesteps of all sequences, of shape (N, T, H)\n",
        "    \"\"\"\n",
        "    h = None\n",
        "    c0 = torch.zeros_like(h0) # we provide the intial cell state c0 here for you!\n",
        "    #############################################################################\n",
        "    # TODO: Implement the forward pass for an LSTM over an entire timeseries.   #\n",
        "    # You should use the lstm_step_forward function that you just defined.      #\n",
        "    #############################################################################\n",
        "    # Replace \"pass\" statement with your code\n",
        "    pass\n",
        "    ##############################################################################\n",
        "    #                               END OF YOUR CODE                             #\n",
        "    ##############################################################################\n",
        "\n",
        "    return h"
      ],
      "execution_count": null,
      "outputs": []
    },
    {
      "cell_type": "markdown",
      "metadata": {
        "colab_type": "text",
        "id": "eO8f4KcN6XQJ"
      },
      "source": [
        "When you are done, run the following to check your implementation. You should see an error on the order of `1e-7` or less."
      ]
    },
    {
      "cell_type": "code",
      "metadata": {
        "colab_type": "code",
        "id": "_x-3BJiEvMMv",
        "colab": {}
      },
      "source": [
        "N, D, H, T = 2, 5, 4, 3\n",
        "x = torch.linspace(-0.4, 0.6, steps=N*T*D, **to_double_cuda).reshape(N, T, D)\n",
        "h0 = torch.linspace(-0.4, 0.8, steps=N*H, **to_double_cuda).reshape(N, H)\n",
        "Wx = torch.linspace(-0.2, 0.9, steps=4*D*H, **to_double_cuda).reshape(D, 4 * H)\n",
        "Wh = torch.linspace(-0.3, 0.6, steps=4*H*H, **to_double_cuda).reshape(H, 4 * H)\n",
        "b = torch.linspace(0.2, 0.7, steps=4*H, **to_double_cuda)\n",
        "\n",
        "h = lstm_forward(x, h0, Wx, Wh, b)\n",
        "\n",
        "expected_h = torch.tensor([\n",
        " [[ 0.01764008,  0.01823233,  0.01882671,  0.0194232 ],\n",
        "  [ 0.11287491,  0.12146228,  0.13018446,  0.13902939],\n",
        "  [ 0.31358768,  0.33338627,  0.35304453,  0.37250975]],\n",
        " [[ 0.45767879,  0.4761092,   0.4936887,   0.51041945],\n",
        "  [ 0.6704845,   0.69350089,  0.71486014,  0.7346449 ],\n",
        "  [ 0.81733511,  0.83677871,  0.85403753,  0.86935314]]], **to_double_cuda)\n",
        "\n",
        "print('h error: ', rel_error(expected_h, h))"
      ],
      "execution_count": null,
      "outputs": []
    },
    {
      "cell_type": "markdown",
      "metadata": {
        "colab_type": "text",
        "id": "_YZ3OqrqkjLt"
      },
      "source": [
        "## LSTM Module\n",
        "\n",
        "We can now wrap the LSTM functions we wrote into an nn.Module."
      ]
    },
    {
      "cell_type": "code",
      "metadata": {
        "colab_type": "code",
        "id": "FFgOHHZnkZ53",
        "colab": {}
      },
      "source": [
        "class LSTM(nn.Module):\n",
        "  \"\"\"\n",
        "  This is our single-layer, uni-directional LSTM module.\n",
        "  \n",
        "  Arguments for initialization:\n",
        "  - input_size: Input size, denoted as D before\n",
        "  - hidden_size: Hidden size, denoted as H before\n",
        "  \"\"\"\n",
        "  def __init__(self, input_size, hidden_size, device='cpu',\n",
        "                dtype=torch.float32):\n",
        "    \"\"\"\n",
        "    Initialize a LSTM.\n",
        "    Model parameters to initialize:\n",
        "    - Wx: Weights for input-to-hidden connections, of shape (D, 4H)\n",
        "    - Wh: Weights for hidden-to-hidden connections, of shape (H, 4H)\n",
        "    - b: Biases, of shape (4H,)\n",
        "    \"\"\"\n",
        "    super().__init__()\n",
        "    \n",
        "    # Register parameters\n",
        "    self.Wx = Parameter(torch.randn(input_size, hidden_size*4,\n",
        "                       device=device, dtype=dtype).div(math.sqrt(input_size)))\n",
        "    self.Wh = Parameter(torch.randn(hidden_size, hidden_size*4,\n",
        "                       device=device, dtype=dtype).div(math.sqrt(hidden_size)))\n",
        "    self.b = Parameter(torch.zeros(hidden_size*4,\n",
        "                       device=device, dtype=dtype))\n",
        "    \n",
        "  def forward(self, x, h0):\n",
        "    \"\"\"\n",
        "    Inputs:\n",
        "    - x: Input data for the entire timeseries, of shape (N, T, D)\n",
        "    - h0: Initial hidden state, of shape (N, H)\n",
        "\n",
        "    Outputs:\n",
        "    - hn: The hidden state output\n",
        "    \"\"\"\n",
        "    hn = lstm_forward(x, h0, self.Wx, self.Wh, self.b)\n",
        "    return hn\n",
        "  \n",
        "  def step_forward(self, x, prev_h, prev_c):\n",
        "    \"\"\"\n",
        "    Inputs:\n",
        "    - x: Input data for one time step, of shape (N, D)\n",
        "    - prev_h: The previous hidden state, of shape (N, H)\n",
        "    - prev_c: The previous cell state, of shape (N, H)\n",
        "\n",
        "    Outputs:\n",
        "    - next_h: The next hidden state, of shape (N, H)\n",
        "    - next_c: The next cell state, of shape (N, H)\n",
        "    \"\"\"\n",
        "    next_h, next_c = lstm_step_forward(x, prev_h, prev_c, self.Wx, self.Wh, self.b)\n",
        "    return next_h, next_c"
      ],
      "execution_count": null,
      "outputs": []
    },
    {
      "cell_type": "markdown",
      "metadata": {
        "colab_type": "text",
        "id": "92SStL_tvMNK"
      },
      "source": [
        "## LSTM captioning model\n",
        "\n",
        "Now that you have implemented an LSTM, update the implementation of the [`init`](#scrollTo=XWrmaSZaUxqX) method in class `CaptioningRNN` **ONLY** to also handle the case where `self.cell_type` is `lstm`. **This should require adding less than 5 lines of code.**\n",
        "\n",
        "Once you have done so, run the following to check your implementation. You should see a difference on the order of `1e-7` or less."
      ]
    },
    {
      "cell_type": "code",
      "metadata": {
        "colab_type": "code",
        "id": "NNpiC4WSvMNL",
        "colab": {}
      },
      "source": [
        "fix_random_seed(0)\n",
        "\n",
        "N, D, W, H = 10, 1280, 30, 40\n",
        "D_img = 112\n",
        "word_to_idx = {'<NULL>': 0, 'cat': 2, 'dog': 3}\n",
        "V = len(word_to_idx)\n",
        "T = 13\n",
        "\n",
        "model = CaptioningRNN(word_to_idx,\n",
        "          input_dim=D,\n",
        "          wordvec_dim=W,\n",
        "          hidden_dim=H,\n",
        "          cell_type='lstm',\n",
        "          **to_float_cuda)\n",
        "\n",
        "for k,v in model.named_parameters():\n",
        "  # print(k, v.shape) # uncomment this to see the weight shape\n",
        "  v.data.copy_(torch.linspace(-1.4, 1.3, steps=v.numel()).reshape(*v.shape))\n",
        "\n",
        "images = torch.linspace(-3., 3., steps=(N * 3 * D_img * D_img),\n",
        "                       **to_float_cuda).reshape(N, 3, D_img, D_img)\n",
        "captions = (torch.arange(N * T, **to_long_cuda) % V).reshape(N, T)\n",
        "\n",
        "loss = model(images, captions).item()\n",
        "expected_loss = 146.3161468505\n",
        "\n",
        "print('loss: ', loss)\n",
        "print('expected loss: ', expected_loss)\n",
        "print('difference: ', rel_error(torch.tensor(loss), torch.tensor(expected_loss)))"
      ],
      "execution_count": null,
      "outputs": []
    },
    {
      "cell_type": "markdown",
      "metadata": {
        "colab_type": "text",
        "id": "06hbDnRXvMNO"
      },
      "source": [
        "## Overfit small data\n",
        "We have written this part for you. Run the following to overfit an LSTM captioning model on the same small dataset as we used for the RNN previously. You should see a final loss less than `4` after 80 epochs."
      ]
    },
    {
      "cell_type": "code",
      "metadata": {
        "colab_type": "code",
        "id": "O-tETnd3vMNP",
        "colab": {}
      },
      "source": [
        "fix_random_seed(0)\n",
        "\n",
        "# data input\n",
        "small_num_train = 50\n",
        "sample_idx = torch.linspace(0, num_train-1, steps=small_num_train, **to_float_cuda).long()\n",
        "small_image_data = data_dict['train_images'][sample_idx].to('cuda')\n",
        "small_caption_data = data_dict['train_captions'][sample_idx].to('cuda')\n",
        "\n",
        "# optimization arguments\n",
        "num_epochs = 80\n",
        "batch_size = 50\n",
        "\n",
        "# create the image captioning model\n",
        "model = CaptioningRNN(\n",
        "          cell_type='lstm',\n",
        "          word_to_idx=data_dict['vocab']['token_to_idx'],\n",
        "          input_dim=1280, # hard-coded, do not modify\n",
        "          hidden_dim=512,\n",
        "          wordvec_dim=256,\n",
        "          **to_float_cuda)\n",
        "\n",
        "for learning_rate in [1e-2]:\n",
        "  print('learning rate is: ', learning_rate)\n",
        "  CaptioningTrain(model, small_image_data, small_caption_data,\n",
        "                num_epochs=num_epochs, batch_size=batch_size,\n",
        "                learning_rate=learning_rate)"
      ],
      "execution_count": null,
      "outputs": []
    },
    {
      "cell_type": "markdown",
      "metadata": {
        "colab_type": "text",
        "id": "4vzLUzlWvMNT"
      },
      "source": [
        "## Caption sampling\n",
        "Modify the [`sample`](#scrollTo=v0M8Dq5NEOxN) method in class `CaptioningRNN` to handle the case where `self.cell_type` is `lstm`. **This should take fewer than 10 lines of code.**\n",
        "\n",
        "When you are done, run the following to train a captioning model and sample from your the model on some training and validation set samples."
      ]
    },
    {
      "cell_type": "markdown",
      "metadata": {
        "colab_type": "text",
        "id": "bn2PpJL5oC0J"
      },
      "source": [
        "### Train the net\n",
        "Now, perform the training on the entire training set. You should see a final loss less than `2.8`."
      ]
    },
    {
      "cell_type": "code",
      "metadata": {
        "colab_type": "code",
        "id": "f9MFRowdoHW7",
        "colab": {}
      },
      "source": [
        "fix_random_seed(0)\n",
        "\n",
        "# data input\n",
        "small_num_train = num_train\n",
        "sample_idx = torch.randint(num_train, size=(small_num_train,), **to_long_cuda)\n",
        "small_image_data = data_dict['train_images'][sample_idx].to('cuda')\n",
        "small_caption_data = data_dict['train_captions'][sample_idx].to('cuda')\n",
        "\n",
        "# optimization arguments\n",
        "num_epochs = 60\n",
        "batch_size = 250\n",
        "\n",
        "# create the image captioning model\n",
        "lstm_model = CaptioningRNN(\n",
        "          cell_type='lstm',\n",
        "          word_to_idx=data_dict['vocab']['token_to_idx'],\n",
        "          input_dim=1280, # hard-coded, do not modify\n",
        "          hidden_dim=512,\n",
        "          wordvec_dim=256,\n",
        "          **to_float_cuda)\n",
        "\n",
        "for learning_rate in [1e-3]:\n",
        "  print('learning rate is: ', learning_rate)\n",
        "  CaptioningTrain(lstm_model, small_image_data, small_caption_data,\n",
        "                num_epochs=num_epochs, batch_size=batch_size,\n",
        "                learning_rate=learning_rate)"
      ],
      "execution_count": null,
      "outputs": []
    },
    {
      "cell_type": "markdown",
      "metadata": {
        "colab_type": "text",
        "id": "wsM2pIYpG3v1"
      },
      "source": [
        "### Test-time sampling\n",
        "As with the RNN, the samples on training data should be very good; the samples on validation data will probably make less sense."
      ]
    },
    {
      "cell_type": "code",
      "metadata": {
        "colab_type": "code",
        "id": "ziQJ7SBnvMNU",
        "colab": {}
      },
      "source": [
        "# Sample a minibatch and show the reshaped 112x112 images,\n",
        "# GT captions, and generated captions by your model.\n",
        "batch_size = 3\n",
        "\n",
        "for split in ['train', 'val']:\n",
        "  sample_idx = torch.randint(0, num_train if split=='train' else num_val, (batch_size,))\n",
        "  sample_images = data_dict[split+'_images'][sample_idx]\n",
        "  sample_captions = data_dict[split+'_captions'][sample_idx]\n",
        "\n",
        "  gt_captions = decode_captions(sample_captions, data_dict['vocab']['idx_to_token'])\n",
        "  lstm_model.eval()\n",
        "  generated_captions = lstm_model.sample(sample_images)\n",
        "  generated_captions = decode_captions(generated_captions, data_dict['vocab']['idx_to_token'])\n",
        "\n",
        "  for i in range(batch_size):\n",
        "    plt.imshow(sample_images[i].permute(1, 2, 0))\n",
        "    plt.axis('off')\n",
        "    plt.title('%s\\nLSTM Generated:%s\\nGT:%s' % (split, generated_captions[i], gt_captions[i]))\n",
        "    plt.show()"
      ],
      "execution_count": null,
      "outputs": []
    },
    {
      "cell_type": "markdown",
      "metadata": {
        "colab_type": "text",
        "id": "ECcPPE_Pqc8v"
      },
      "source": [
        "# Attention LSTM\n",
        "Attention LSTM essentially adds an attention input $x_{attn}^t\\in\\mathbb{R}^H$ into LSTM, along with $x_t\\in\\mathbb{R}^D$ and the previous hidden state $h_{t-1}\\in\\mathbb{R}^H$.\n",
        "\n",
        "To get the attention input $x_{attn}^t$, here we adopt a method called `scaled dot-product attention`, as covered in the lecture. We first project the CNN feature activation from $\\mathbb{R}^{1280\\times4\\times4}$ to $\\mathbb{R}^{H\\times4\\times4}$ using an affine layer. Given the projected activation $A\\in \\mathbb{R}^{H\\times4\\times4}$ and the LSTM hidden state from the previous time step $h_{t-1}$, we formuate the attention weights on $A$ at time step $t$ as $M_{attn}^t=h_{t-1}A/\\sqrt{H} \\in \\mathbb{R}^{4\\times4}$.\n",
        "\n",
        "To simplify the formuation here, we flatten the spatial dimensions of $A$ and $M_{attn}^t$ which gives $\\tilde{A}\\in \\mathbb{R}^{H\\times16}$ and $\\tilde{M^t}_{attn}=h_{t-1}A\\in \\mathbb{R}^{16}$.\n",
        "We add a **`softmax`** activation function on $\\tilde{M^t}_{attn}$ so that the attention weights at each time step are normalized and sum up to one.\n",
        "\n",
        "The attention embedding given the attention weights is then $x_{attn}^t=\\tilde{A}\\tilde{M^t}_{attn} \\in\\mathbb{R}^H$.\n",
        "\n",
        "You will implement a batch version of the attention layer we have described here."
      ]
    },
    {
      "cell_type": "markdown",
      "metadata": {
        "colab_type": "text",
        "id": "GTDk54Q4ubQ1"
      },
      "source": [
        "## Scaled dot-product attention\n",
        "Implement the scaled dot-product attention function. Given the LSTM hidden state from the previous time step `prev_h` (or $h_{t-1}$) and the projected CNN feature activation `A`, compute the attention weights `attn_weights` (or $\\tilde{M^t}_{attn}$ with a reshaping to $\\mathbb{R}^{4\\times4}$) attention embedding output `attn` (or $x_{attn}^t$) using the formulation we provided."
      ]
    },
    {
      "cell_type": "code",
      "metadata": {
        "colab_type": "code",
        "id": "91JFQb7I6-5b",
        "colab": {}
      },
      "source": [
        "def dot_product_attention(prev_h, A):\n",
        "    \"\"\"\n",
        "    A simple scaled dot-product attention layer.\n",
        "    Inputs:\n",
        "    - prev_h: The LSTM hidden state from the previous time step, of shape (N, H)\n",
        "    - A: **Projected** CNN feature activation, of shape (N, H, 4, 4),\n",
        "         where H is the LSTM hidden state size\n",
        "    \n",
        "    Outputs:\n",
        "    - attn: Attention embedding output, of shape (N, H)\n",
        "    - attn_weights: Attention weights, of shape (N, 4, 4)\n",
        "    \n",
        "    \"\"\"\n",
        "    N, H, D_a, _ = A.shape\n",
        "\n",
        "    attn, attn_weights = None, None\n",
        "    #############################################################################\n",
        "    # TODO: Implement the scaled dot-product attention we described earlier.    #\n",
        "    # You will use this function for `attention_forward` and `sample_caption`   #\n",
        "    # HINT: Make sure you reshape attn_weights back to (N, 4, 4)!               #\n",
        "    #############################################################################\n",
        "    # Replace \"pass\" statement with your code\n",
        "    pass\n",
        "    ##############################################################################\n",
        "    #                               END OF YOUR CODE                             #\n",
        "    ##############################################################################\n",
        "    \n",
        "    return attn, attn_weights"
      ],
      "execution_count": null,
      "outputs": []
    },
    {
      "cell_type": "markdown",
      "metadata": {
        "colab_type": "text",
        "id": "JmiZIjU2cDu0"
      },
      "source": [
        "When you are done, run the following to check your implementation. You should see an error on the order of `1e-7` or less."
      ]
    },
    {
      "cell_type": "code",
      "metadata": {
        "colab_type": "code",
        "id": "irAslXWfaVGw",
        "colab": {}
      },
      "source": [
        "N, H = 2, 5\n",
        "D_a = 4\n",
        "\n",
        "prev_h = torch.linspace(-0.4, 0.6, steps=N*H, **to_double_cuda).reshape(N, H)\n",
        "A = torch.linspace(-0.4, 1.8, steps=N*H*D_a*D_a, **to_double_cuda).reshape(N, H, D_a, D_a)\n",
        "\n",
        "attn, attn_weights = dot_product_attention(prev_h, A)\n",
        "\n",
        "expected_attn = torch.tensor([[-0.29784344, -0.07645979,  0.14492386,  0.36630751,  0.58769115],\n",
        "        [ 0.81412643,  1.03551008,  1.25689373,  1.47827738,  1.69966103]], **to_double_cuda)\n",
        "expected_attn_weights = torch.tensor([[[0.06511126, 0.06475411, 0.06439892, 0.06404568],\n",
        "         [0.06369438, 0.06334500, 0.06299754, 0.06265198],\n",
        "         [0.06230832, 0.06196655, 0.06162665, 0.06128861],\n",
        "         [0.06095243, 0.06061809, 0.06028559, 0.05995491]],\n",
        "\n",
        "        [[0.05717142, 0.05784357, 0.05852362, 0.05921167],\n",
        "         [0.05990781, 0.06061213, 0.06132473, 0.06204571],\n",
        "         [0.06277517, 0.06351320, 0.06425991, 0.06501540],\n",
        "         [0.06577977, 0.06655312, 0.06733557, 0.06812722]]], **to_double_cuda)\n",
        "\n",
        "print('attn error: ', rel_error(expected_attn, attn))\n",
        "print('attn_weights error: ', rel_error(expected_attn_weights, attn_weights))"
      ],
      "execution_count": null,
      "outputs": []
    },
    {
      "cell_type": "markdown",
      "metadata": {
        "colab_type": "text",
        "id": "2VK_Ixn1qlRo"
      },
      "source": [
        "## Attention LSTM: step forward"
      ]
    },
    {
      "cell_type": "markdown",
      "metadata": {
        "colab_type": "text",
        "id": "DVddQlj4xwRk"
      },
      "source": [
        "Modify the [`lstm_step_forward`](#scrollTo=t4DNkZYevMMc) function from earlier to support the extra attention input `attn` (or $x_{attn}$) and its embedding weight matrix `Wattn` (or $W_{attn}$) in the LSTM cell. Hence, at each timestep the *activation vector* $a\\in\\mathbb{R}^{4H}$ in LSTM cell is formulated as:\n",
        "\n",
        "$a=W_xx_t + W_hh_{t-1}+W_{attn}x_{attn}^t+b$.\n",
        "\n",
        "\n",
        "**This should require adding less than 5 lines of code.**\n",
        "\n",
        "Once you are done, run the following to perform a simple test of your implementation. You should see errors on the order of `1e-8` or less."
      ]
    },
    {
      "cell_type": "code",
      "metadata": {
        "colab_type": "code",
        "id": "oaS31Ncf3l0d",
        "colab": {}
      },
      "source": [
        "N, D, H = 3, 4, 5\n",
        "\n",
        "x = torch.linspace(-0.4, 1.2, steps=N*D, **to_double_cuda).reshape(N, D)\n",
        "prev_h = torch.linspace(-0.3, 0.7, steps=N*H, **to_double_cuda).reshape(N, H)\n",
        "prev_c = torch.linspace(-0.4, 0.9, steps=N*H, **to_double_cuda).reshape(N, H)\n",
        "Wx = torch.linspace(-2.1, 1.3, steps=4*D*H, **to_double_cuda).reshape(D, 4 * H)\n",
        "Wh = torch.linspace(-0.7, 2.2, steps=4*H*H, **to_double_cuda).reshape(H, 4 * H)\n",
        "b = torch.linspace(0.3, 0.7, steps=4*H, **to_double_cuda)\n",
        "attn = torch.linspace(0.6, 1.8, steps=N*H, **to_double_cuda).reshape(N, H)\n",
        "Wattn = torch.linspace(1.3, 4.2, steps=4*H*H, **to_double_cuda).reshape(H, 4 * H)\n",
        "\n",
        "\n",
        "next_h, next_c = lstm_step_forward(x, prev_h, prev_c, Wx, Wh, b, attn, Wattn)\n",
        "\n",
        "expected_next_h = torch.tensor([\n",
        "    [0.53704256, 0.59980774, 0.65596820, 0.70569729, 0.74932626],\n",
        "    [0.78729857, 0.82010653, 0.84828362, 0.87235677, 0.89283167],\n",
        "    [0.91017981, 0.92483119, 0.93717126, 0.94754073, 0.95623746]], **to_double_cuda)\n",
        "expected_next_c = torch.tensor([\n",
        "    [0.59999328, 0.69285041, 0.78570758, 0.87856479, 0.97142202],\n",
        "    [1.06428558, 1.15714276, 1.24999992, 1.34285708, 1.43571424],\n",
        "    [1.52857143, 1.62142857, 1.71428571, 1.80714286, 1.90000000]], **to_double_cuda)\n",
        "\n",
        "print('next_h error: ', rel_error(expected_next_h, next_h))\n",
        "print('next_c error: ', rel_error(expected_next_c, next_c))"
      ],
      "execution_count": null,
      "outputs": []
    },
    {
      "cell_type": "markdown",
      "metadata": {
        "colab_type": "text",
        "id": "VS0JHfJ53agv"
      },
      "source": [
        "## Attention LSTM: forward\n"
      ]
    },
    {
      "cell_type": "markdown",
      "metadata": {
        "colab_type": "text",
        "id": "QRry6hvQ7ywx"
      },
      "source": [
        "Now, implement the `attention_forward` function to run an Attention LSTM forward on an entire timeseries of data. You will have to use the `dot_product_attention` function and the `lstm_step_forward` function you implemented.\n",
        "\n",
        "Again, don't worry about the backward part! `autograd` will handle it."
      ]
    },
    {
      "cell_type": "code",
      "metadata": {
        "colab_type": "code",
        "id": "z8jxdeCxu5fn",
        "colab": {}
      },
      "source": [
        "def attention_forward(x, A, Wx, Wh, Wattn, b):\n",
        "    \"\"\"\n",
        "    h0 and c0 are same initialized as the global image feature (meanpooled A)\n",
        "    For simplicity, we implement scaled dot-product attention, which means in\n",
        "    Eq. 4 of the paper (https://arxiv.org/pdf/1502.03044.pdf),\n",
        "    f_{att}(a_i, h_{t−1}) equals to the scaled dot product of a_i and h_{t-1}.\n",
        "    \n",
        "    Forward pass for an LSTM over an entire sequence of data. We assume an input\n",
        "    sequence composed of T vectors, each of dimension D. The LSTM uses a hidden\n",
        "    size of H, and we work over a minibatch containing N sequences. After running\n",
        "    the LSTM forward, we return the hidden states for all timesteps.\n",
        "\n",
        "    Note that the initial cell state is passed as input, but the initial cell\n",
        "    state is set to zero. Also note that the cell state is not returned; it is\n",
        "    an internal variable to the LSTM and is not accessed from outside.\n",
        "\n",
        "    Inputs:\n",
        "    - x: Input data, of shape (N, T, D)\n",
        "    - A: **Projected** activation map, of shape (N, H, 4, 4)\n",
        "    - Wx: Weights for input-to-hidden connections, of shape (D, 4H)\n",
        "    - Wh: Weights for hidden-to-hidden connections, of shape (H, 4H)\n",
        "    - Wattn: Weights for attention-to-hidden connections, of shape (H, 4H)\n",
        "    - b: Biases, of shape (4H,)\n",
        "\n",
        "    Returns a tuple of:\n",
        "    - h: Hidden states for all timesteps of all sequences, of shape (N, T, H)\n",
        "    \"\"\"\n",
        "    \n",
        "    h = None\n",
        "    \n",
        "    # The initial hidden state h0 and cell state c0 are initialized differently in\n",
        "    # Attention LSTM from the original LSTM and hence we provided them for you.\n",
        "    h0 = A.mean(dim=(2, 3)) # Initial hidden state, of shape (N, H)\n",
        "    c0 = h0 # Initial cell state, of shape (N, H)\n",
        "\n",
        "    #############################################################################\n",
        "    # TODO: Implement the forward pass for an LSTM over an entire timeseries.   #\n",
        "    # You should use the lstm_step_forward function and dot_product_attention   #\n",
        "    # function that you just defined.                                           #\n",
        "    #############################################################################\n",
        "    # Replace \"pass\" statement with your code\n",
        "    pass\n",
        "    ##############################################################################\n",
        "    #                               END OF YOUR CODE                             #\n",
        "    ##############################################################################\n",
        "\n",
        "    return h"
      ],
      "execution_count": null,
      "outputs": []
    },
    {
      "cell_type": "markdown",
      "metadata": {
        "colab_type": "text",
        "id": "5nPR-OYQ4Ohp"
      },
      "source": [
        "When you are done, run the following to check your implementation. You should see an error on the order of `1e-8` or less."
      ]
    },
    {
      "cell_type": "code",
      "metadata": {
        "colab_type": "code",
        "id": "aB6VU8nl4SmS",
        "colab": {}
      },
      "source": [
        "N, D, H, T = 2, 5, 4, 3\n",
        "D_a = 4\n",
        "\n",
        "x = torch.linspace(-0.4, 0.6, steps=N*T*D, **to_double_cuda).reshape(N, T, D)\n",
        "A = torch.linspace(-0.4, 1.8, steps=N*H*D_a*D_a, **to_double_cuda).reshape(N, H, D_a, D_a)\n",
        "Wx = torch.linspace(-0.2, 0.9, steps=4*D*H, **to_double_cuda).reshape(D, 4 * H)\n",
        "Wh = torch.linspace(-0.3, 0.6, steps=4*H*H, **to_double_cuda).reshape(H, 4 * H)\n",
        "Wattn = torch.linspace(1.3, 4.2, steps=4*H*H, **to_double_cuda).reshape(H, 4 * H)\n",
        "b = torch.linspace(0.2, 0.7, steps=4*H, **to_double_cuda)\n",
        "\n",
        "h = attention_forward(x, A, Wx, Wh, Wattn, b)\n",
        "\n",
        "expected_h = torch.tensor([\n",
        "        [[0.56141729, 0.70274849, 0.80000386, 0.86349400],\n",
        "         [0.89556391, 0.92856726, 0.94950579, 0.96281018],\n",
        "         [0.96792077, 0.97535465, 0.98039623, 0.98392994]],\n",
        "\n",
        "        [[0.95065880, 0.97135490, 0.98344373, 0.99045552],\n",
        "         [0.99317679, 0.99607466, 0.99774317, 0.99870293],\n",
        "         [0.99907382, 0.99946784, 0.99969426, 0.99982435]]], **to_double_cuda)\n",
        "\n",
        "print('h error: ', rel_error(expected_h, h))"
      ],
      "execution_count": null,
      "outputs": []
    },
    {
      "cell_type": "markdown",
      "metadata": {
        "colab_type": "text",
        "id": "jGdYDBjDqofZ"
      },
      "source": [
        "## Attention LSTM Module\n",
        "We can now wrap the Attention LSTM functions we wrote into an nn.Module."
      ]
    },
    {
      "cell_type": "code",
      "metadata": {
        "colab_type": "code",
        "id": "x4l3yDPx5gWo",
        "colab": {}
      },
      "source": [
        "class AttentionLSTM(nn.Module):\n",
        "  \"\"\"\n",
        "  This is our single-layer, uni-directional Attention module.\n",
        "  \n",
        "  Arguments for initialization:\n",
        "  - input_size: Input size, denoted as D before\n",
        "  - hidden_size: Hidden size, denoted as H before\n",
        "  \"\"\"\n",
        "  def __init__(self, input_size, hidden_size, device='cpu',\n",
        "                dtype=torch.float32):\n",
        "    \"\"\"\n",
        "    Initialize a LSTM.\n",
        "    Model parameters to initialize:\n",
        "    - Wx: Weights for input-to-hidden connections, of shape (D, 4H)\n",
        "    - Wh: Weights for hidden-to-hidden connections, of shape (H, 4H)\n",
        "    - Wattn: Weights for attention-to-hidden connections, of shape (H, 4H)\n",
        "    - b: Biases, of shape (4H,)\n",
        "    \"\"\"\n",
        "    super().__init__()\n",
        "    \n",
        "    # Register parameters\n",
        "    self.Wx = Parameter(torch.randn(input_size, hidden_size*4,\n",
        "                       device=device, dtype=dtype).div(math.sqrt(input_size)))\n",
        "    self.Wh = Parameter(torch.randn(hidden_size, hidden_size*4,\n",
        "                       device=device, dtype=dtype).div(math.sqrt(hidden_size)))\n",
        "    self.Wattn = Parameter(torch.randn(hidden_size, hidden_size*4,\n",
        "                       device=device, dtype=dtype).div(math.sqrt(hidden_size)))\n",
        "    self.b = Parameter(torch.zeros(hidden_size*4,\n",
        "                       device=device, dtype=dtype))\n",
        "    \n",
        "  def forward(self, x, A):\n",
        "    \"\"\"  \n",
        "    Inputs:\n",
        "    - x: Input data for the entire timeseries, of shape (N, T, D)\n",
        "    - A: The projected CNN feature activation, of shape (N, H, 4, 4)\n",
        "\n",
        "    Outputs:\n",
        "    - hn: The hidden state output\n",
        "    \"\"\"\n",
        "    hn = attention_forward(x, A, self.Wx, self.Wh, self.Wattn, self.b)\n",
        "    return hn\n",
        "  \n",
        "  def step_forward(self, x, prev_h, prev_c, attn):\n",
        "    \"\"\"\n",
        "    Inputs:\n",
        "    - x: Input data for one time step, of shape (N, D)\n",
        "    - prev_h: The previous hidden state, of shape (N, H)\n",
        "    - prev_c: The previous cell state, of shape (N, H)\n",
        "    - attn: The attention embedding, of shape (N, H)\n",
        "\n",
        "    Outputs:\n",
        "    - next_h: The next hidden state, of shape (N, H)\n",
        "    - next_c: The next cell state, of shape (N, H)\n",
        "    \"\"\"\n",
        "    next_h, next_c = lstm_step_forward(x, prev_h, prev_c, self.Wx, self.Wh,\n",
        "                                       self.b, attn=attn, Wattn=self.Wattn)\n",
        "    return next_h, next_c"
      ],
      "execution_count": null,
      "outputs": []
    },
    {
      "cell_type": "markdown",
      "metadata": {
        "colab_type": "text",
        "id": "9VzpyHuX6Jzc"
      },
      "source": [
        "## Attention LSTM captioning model\n",
        "\n",
        "Now that you have implemented an attention module, update the implementation of the [`init`](#scrollTo=XWrmaSZaUxqX) method and [`forward`](#scrollTo=e2AJE8HVELe-) method in module `CaptioningRNN` to also handle the case where `self.cell_type` is `attention`. **This should require adding less than 10 lines of code.**\n",
        "\n",
        "Once you have done so, run the following to check your implementation. You should see a difference on the order of `1e-7` or less."
      ]
    },
    {
      "cell_type": "code",
      "metadata": {
        "colab_type": "code",
        "id": "7VqGqDYw6Jzd",
        "colab": {}
      },
      "source": [
        "fix_random_seed(0)\n",
        "\n",
        "N, D, W, H = 10, 1280, 30, 40\n",
        "D_img = 112\n",
        "word_to_idx = {'<NULL>': 0, 'cat': 2, 'dog': 3}\n",
        "V = len(word_to_idx)\n",
        "T = 13\n",
        "\n",
        "model = CaptioningRNN(word_to_idx,\n",
        "          input_dim=D,\n",
        "          wordvec_dim=W,\n",
        "          hidden_dim=H,\n",
        "          cell_type='attention',\n",
        "          **to_float_cuda)\n",
        "\n",
        "for k,v in model.named_parameters():\n",
        "  # print(k, v.shape) # uncomment this to see the weight shape\n",
        "  v.data.copy_(torch.linspace(-1.4, 1.3, steps=v.numel()).reshape(*v.shape))\n",
        "\n",
        "images = torch.linspace(-3., 3., steps=(N * 3 * D_img * D_img),\n",
        "                       **to_float_cuda).reshape(N, 3, D_img, D_img)\n",
        "captions = (torch.arange(N * T, **to_long_cuda) % V).reshape(N, T)\n",
        "\n",
        "loss = model(images, captions).item()\n",
        "expected_loss = 46.9113769531\n",
        "\n",
        "print('loss: ', loss)\n",
        "print('expected loss: ', expected_loss)\n",
        "print('difference: ', rel_error(torch.tensor(loss), torch.tensor(expected_loss)))"
      ],
      "execution_count": null,
      "outputs": []
    },
    {
      "cell_type": "markdown",
      "metadata": {
        "colab_type": "text",
        "id": "eYxXTAn4q0wV"
      },
      "source": [
        "## Overfit small data\n",
        "We have written this part for you. Run the following to overfit an Attention LSTM captioning model on the same small dataset as we used for the RNN previously. You should see a final loss less than `9`."
      ]
    },
    {
      "cell_type": "code",
      "metadata": {
        "colab_type": "code",
        "id": "tlK7lKUgWeDS",
        "colab": {}
      },
      "source": [
        "fix_random_seed(0)\n",
        "\n",
        "# data input\n",
        "small_num_train = 50\n",
        "sample_idx = torch.linspace(0, num_train-1, steps=small_num_train, **to_float_cuda).long()\n",
        "small_image_data = data_dict['train_images'][sample_idx].to('cuda')\n",
        "small_caption_data = data_dict['train_captions'][sample_idx].to('cuda')\n",
        "\n",
        "# optimization arguments\n",
        "num_epochs = 80\n",
        "batch_size = 50\n",
        "\n",
        "# create the image captioning model\n",
        "model = CaptioningRNN(\n",
        "          cell_type='attention',\n",
        "          word_to_idx=data_dict['vocab']['token_to_idx'],\n",
        "          input_dim=1280, # hard-coded, do not modify\n",
        "          hidden_dim=512,\n",
        "          wordvec_dim=256,\n",
        "          **to_float_cuda)\n",
        "\n",
        "for learning_rate in [1e-3]:\n",
        "  print('learning rate is: ', learning_rate)\n",
        "  CaptioningTrain(model, small_image_data, small_caption_data,\n",
        "                num_epochs=num_epochs, batch_size=batch_size,\n",
        "                learning_rate=learning_rate)"
      ],
      "execution_count": null,
      "outputs": []
    },
    {
      "cell_type": "markdown",
      "metadata": {
        "colab_type": "text",
        "id": "ircMb7_qq7vB"
      },
      "source": [
        "## Caption sampling\n",
        "Modify the [`sample`](#scrollTo=v0M8Dq5NEOxN) method in module `CaptioningRNN` to handle the case where `self.cell_type` is `attention`. **This should take fewer than 10 lines of code.**\n",
        "\n",
        "When you are done run the following to train a captioning model and sample from the model on some training and validation set samples."
      ]
    },
    {
      "cell_type": "markdown",
      "metadata": {
        "colab_type": "text",
        "id": "t--pa33Sq4SW"
      },
      "source": [
        "### Train the net\n",
        "Now, perform the training on the entire training set. You should see a final loss less than `1.0`."
      ]
    },
    {
      "cell_type": "code",
      "metadata": {
        "colab_type": "code",
        "id": "ScBvAfcXdVv4",
        "colab": {}
      },
      "source": [
        "fix_random_seed(0)\n",
        "\n",
        "# data input\n",
        "small_num_train = num_train\n",
        "sample_idx = torch.randint(num_train, size=(small_num_train,), **to_long_cuda)\n",
        "small_image_data = data_dict['train_images'][sample_idx].to('cuda')\n",
        "small_caption_data = data_dict['train_captions'][sample_idx].to('cuda')\n",
        "\n",
        "# optimization arguments\n",
        "num_epochs = 60\n",
        "batch_size = 250\n",
        "\n",
        "# create the image captioning model\n",
        "attn_model = CaptioningRNN(\n",
        "          cell_type='attention',\n",
        "          word_to_idx=data_dict['vocab']['token_to_idx'],\n",
        "          input_dim=1280, # hard-coded, do not modify\n",
        "          hidden_dim=512,\n",
        "          wordvec_dim=256,\n",
        "          **to_float_cuda)\n",
        "\n",
        "for learning_rate in [1e-3]:\n",
        "  print('learning rate is: ', learning_rate)\n",
        "  CaptioningTrain(attn_model, small_image_data, small_caption_data,\n",
        "                num_epochs=num_epochs, batch_size=batch_size,\n",
        "                learning_rate=learning_rate)"
      ],
      "execution_count": null,
      "outputs": []
    },
    {
      "cell_type": "markdown",
      "metadata": {
        "colab_type": "text",
        "id": "5ham_O1TG_z7"
      },
      "source": [
        "### Test-time sampling and visualization\n",
        "As with RNN and LSTM, the samples on training data should be very good; the samples on validation data will probably make less sense.\n",
        "\n",
        "We use the `attention_visualizer` function to visualize the attended regions per generated word. Note that sometimes the attended regions (brighter) might not make much sense particially due to our low resolution image input. In real applications, the attended regions are more accurate."
      ]
    },
    {
      "cell_type": "code",
      "metadata": {
        "colab_type": "code",
        "id": "0i8KNWSDSLNu",
        "colab": {}
      },
      "source": [
        "# Sample a minibatch and show the reshaped 112x112 images,\n",
        "# GT captions, and generated captions by your model.\n",
        "\n",
        "batch_size = 3\n",
        "from torchvision.utils import make_grid\n",
        "from torchvision import transforms\n",
        "\n",
        "for split in ['train', 'val']:\n",
        "  sample_idx = torch.randint(0, num_train if split=='train' else num_val, (batch_size,))\n",
        "  sample_images = data_dict[split+'_images'][sample_idx]\n",
        "  sample_captions = data_dict[split+'_captions'][sample_idx]\n",
        "\n",
        "  gt_captions = decode_captions(sample_captions, data_dict['vocab']['idx_to_token'])\n",
        "  attn_model.eval()\n",
        "  generated_captions, attn_weights_all = attn_model.sample(sample_images)\n",
        "  generated_captions = decode_captions(generated_captions, data_dict['vocab']['idx_to_token'])\n",
        "\n",
        "  for i in range(batch_size):\n",
        "    plt.imshow(sample_images[i].permute(1, 2, 0))\n",
        "    plt.axis('off')\n",
        "    plt.title('%s\\nAttention LSTM Generated:%s\\nGT:%s' % (split, generated_captions[i], gt_captions[i]))\n",
        "    plt.show()\n",
        "    \n",
        "    tokens = generated_captions[i].split(' ')\n",
        "    \n",
        "    vis_attn = []\n",
        "    for j in range(len(tokens)):\n",
        "      img = sample_images[i]\n",
        "      attn_weights = attn_weights_all[i][j]\n",
        "      token = tokens[j]\n",
        "      img_copy = attention_visualizer(img, attn_weights, token)\n",
        "      vis_attn.append(transforms.ToTensor()(img_copy))\n",
        "    \n",
        "    plt.rcParams['figure.figsize'] = (20.0, 20.0)\n",
        "    vis_attn = make_grid(vis_attn, nrow=8)\n",
        "    plt.imshow(torch.flip(vis_attn, dims=(0,)).permute(1, 2, 0))\n",
        "    plt.axis('off')\n",
        "    plt.show()\n",
        "    plt.rcParams['figure.figsize'] = (10.0, 8.0)"
      ],
      "execution_count": null,
      "outputs": []
    },
    {
      "cell_type": "markdown",
      "metadata": {
        "colab_type": "text",
        "id": "ghB8BwfUpmI5"
      },
      "source": [
        "## Final checks\n",
        "Make sure you run \"Runtime -> Restart and run all...\" to double check the RNN/LSTM code is still functioning well after all the changes you have made!"
      ]
    }
  ]
}